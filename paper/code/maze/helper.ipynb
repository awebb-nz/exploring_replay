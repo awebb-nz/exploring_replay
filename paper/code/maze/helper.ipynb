{
 "cells": [
  {
   "cell_type": "code",
   "execution_count": 1,
   "id": "1b9fd760",
   "metadata": {},
   "outputs": [],
   "source": [
    "import numpy as np\n",
    "import matplotlib.pyplot as plt\n",
    "import os, sys\n",
    "from agent_replay import AgentPOMDP\n",
    "from environment import Environment\n",
    "from utils import plot_maze, plot_need, load_env, plot_env\n",
    "import scipy\n",
    "np.random.seed(2)"
   ]
  },
  {
   "cell_type": "code",
   "execution_count": 2,
   "id": "405839d0",
   "metadata": {},
   "outputs": [],
   "source": [
    "env            = 'tolman1234'\n",
    "env_file_path  = os.path.abspath(os.path.join(sys.path[0], '../../code/mazes/' + env + '.txt'))\n",
    "env_config     = load_env(env_file_path)\n",
    "\n",
    "# --- Specify agent parameters ---\n",
    "pag_config = {\n",
    "    'alpha': 1,\n",
    "    'beta':  2, \n",
    "    'gamma': 0.9,\n",
    "}\n",
    "\n",
    "ag_config = {\n",
    "    'alpha_r'        : 1,         # offline learning rate\n",
    "    'horizon'        : 10,        # planning horizon (minus 1)\n",
    "    'xi'             : 0.0001,    # EVB replay threshold\n",
    "    'num_sims'       : 2000,      # number of MC simulations for need\n",
    "    'sequences'      : False,      \n",
    "    'env_name'       : env,       # gridworld name\n",
    "    'barriers'       : [1, 1, 1, 1]\n",
    "}\n",
    "\n",
    "agent = AgentPOMDP(*[pag_config, ag_config, env_config])"
   ]
  },
  {
   "cell_type": "code",
   "execution_count": 3,
   "id": "dd190641",
   "metadata": {},
   "outputs": [
    {
     "data": {
      "image/png": "[encoded data removed]",
      "text/plain": [
       "<Figure size 360x360 with 1 Axes>"
      ]
     },
     "metadata": {},
     "output_type": "display_data"
    }
   ],
   "source": [
    "fig   = plt.figure(figsize=(5, 5))\n",
    "ax    = fig.add_axes([0, 0, 1, 1])\n",
    "plot_env(ax, agent)"
   ]
  },
  {
   "cell_type": "code",
   "execution_count": 4,
   "id": "2e35837c",
   "metadata": {
    "scrolled": false
   },
   "outputs": [],
   "source": [
    "Q_MB  = agent._solve_mb(1e-5, barriers=[1, 1, 1, 1])"
   ]
  },
  {
   "cell_type": "code",
   "execution_count": 5,
   "id": "86ee1bd2",
   "metadata": {},
   "outputs": [
    {
     "data": {
      "image/png": "[encoded data removed]",
      "text/plain": [
       "<Figure size 432x360 with 2 Axes>"
      ]
     },
     "metadata": {},
     "output_type": "display_data"
    }
   ],
   "source": [
    "fig = plt.figure(figsize=(6, 5))\n",
    "ax  = fig.add_axes([0, 0, 1, 1])\n",
    "plot_maze(ax, Q_MB, agent)"
   ]
  },
  {
   "cell_type": "markdown",
   "id": "73dafc88",
   "metadata": {},
   "source": [
    "### Example replays"
   ]
  },
  {
   "cell_type": "code",
   "execution_count": null,
   "id": "b5782198",
   "metadata": {
    "scrolled": false
   },
   "outputs": [],
   "source": [
    "agent.state = 38 # start state\n",
    "agent.M     = np.array([[1, 0], [1, 0], [1, 0]]) # prior belief indicating the barrier is open\n",
    "agent.Q     = Q_MB.copy() # initialise MF Q values\n",
    "Q_history, gain_history, need_history = agent._replay() # start replay"
   ]
  },
  {
   "cell_type": "code",
   "execution_count": null,
   "id": "8fe82ded",
   "metadata": {},
   "outputs": [],
   "source": [
    "fig = plt.figure(figsize=(6, 5))\n",
    "ax  = fig.add_axes([0, 0, 1, 1])\n",
    "plot_maze(ax, agent.Q, agent)\n",
    "# plt.savefig('/home/georgy/Documents/Dayan_lab/PhD/bandits/maze/data/paper_figures/fig2/replay_explore.pdf', transparent=True)"
   ]
  },
  {
   "cell_type": "code",
   "execution_count": null,
   "id": "a18d5352",
   "metadata": {},
   "outputs": [],
   "source": [
    "fig = plt.figure(figsize=(6, 5))\n",
    "ax  = fig.add_axes([0, 0, 1, 1])\n",
    "plot_maze(ax, agent.Q - Q_MB, agent)\n",
    "# plt.savefig('/home/georgy/Documents/Dayan_lab/PhD/bandits/maze/data/replay/examples/tolman123/2/replay_explore_diff.pdf', transparent=True)"
   ]
  },
  {
   "cell_type": "code",
   "execution_count": null,
   "id": "1e8470e5",
   "metadata": {},
   "outputs": [],
   "source": [
    "Q              = agent.Q.copy()\n",
    "Q_before       = Q.copy()\n",
    "Q_after        = Q.copy()\n",
    "Q_after[14, 0] = 0.0\n",
    "agent.Q        = Q_after.copy()"
   ]
  },
  {
   "cell_type": "code",
   "execution_count": null,
   "id": "615598c9",
   "metadata": {},
   "outputs": [],
   "source": [
    "fig = plt.figure(figsize=(6, 5))\n",
    "ax  = fig.add_axes([0, 0, 1, 1])\n",
    "plot_maze(ax, agent.Q, agent)\n",
    "# plt.savefig('/home/georgy/Documents/Dayan_lab/PhD/bandits/maze/data/replay/examples/tolman123/2/online.pdf', transparent=True)"
   ]
  },
  {
   "cell_type": "code",
   "execution_count": null,
   "id": "b896aff0",
   "metadata": {},
   "outputs": [],
   "source": [
    "fig = plt.figure(figsize=(6, 5))\n",
    "ax  = fig.add_axes([0, 0, 1, 1])\n",
    "plot_maze(ax, agent.Q - Q_before, agent)\n",
    "# plt.savefig('/home/georgy/Documents/Dayan_lab/PhD/bandits/maze/data/replay/examples/tolman123/2/online_diff.pdf', transparent=True)"
   ]
  },
  {
   "cell_type": "code",
   "execution_count": null,
   "id": "07153c8c",
   "metadata": {},
   "outputs": [],
   "source": [
    "Q_before    = agent.Q.copy()"
   ]
  },
  {
   "cell_type": "code",
   "execution_count": null,
   "id": "1ada4223",
   "metadata": {
    "scrolled": false
   },
   "outputs": [],
   "source": [
    "agent.state = 14\n",
    "agent.M     = np.array([[0, 1], [1, 0], [1, 0]])\n",
    "Q_history, gain_history, need_history = agent._replay()"
   ]
  },
  {
   "cell_type": "code",
   "execution_count": null,
   "id": "e6a2c272",
   "metadata": {},
   "outputs": [],
   "source": [
    "fig = plt.figure(figsize=(6, 5))\n",
    "ax  = fig.add_axes([0, 0, 1, 1])\n",
    "plot_maze(ax, agent.Q, agent)\n",
    "# plt.savefig('/home/georgy/Documents/Dayan_lab/PhD/bandits/maze/data/replay/examples/tolman123/2/replay_negative.pdf', transparent=True)"
   ]
  },
  {
   "cell_type": "code",
   "execution_count": null,
   "id": "5821e573",
   "metadata": {},
   "outputs": [],
   "source": [
    "fig = plt.figure(figsize=(6, 5))\n",
    "ax  = fig.add_axes([0, 0, 1, 1])\n",
    "plot_maze(ax, agent.Q - Q_before, agent)\n",
    "# plt.savefig('/home/georgy/Documents/Dayan_lab/PhD/bandits/maze/data/replay/examples/tolman123/2/replay_negative_diff.pdf', transparent=True)"
   ]
  },
  {
   "cell_type": "markdown",
   "id": "eb41cd51",
   "metadata": {},
   "source": [
    "### Exploration probability"
   ]
  },
  {
   "cell_type": "code",
   "execution_count": null,
   "id": "d83f2638",
   "metadata": {},
   "outputs": [],
   "source": [
    "np.random.seed(0)\n",
    "\n",
    "agent.state  = 38 # start state\n",
    "M_range      = [0.0, 0.1, 0.2, 0.3, 0.4, 0.5, 0.6, 0.7, 0.8, 0.9, 1.0]\n",
    "qs           = []\n",
    "\n",
    "for M in M_range:\n",
    "    agent.Q  = Q_MB.copy()\n",
    "    agent.M  = M\n",
    "    \n",
    "    _, _, _  = agent._replay()\n",
    "    \n",
    "    Q_after  = agent.Q.copy()\n",
    "    \n",
    "    qs      += [Q_after[14, :].copy(), Q_after[20, :].copy(), Q_after[26, :].copy(), Q_after[32, :].copy()]"
   ]
  },
  {
   "cell_type": "code",
   "execution_count": null,
   "id": "1621dd96",
   "metadata": {},
   "outputs": [],
   "source": [
    "betas = [1, 5, 10, 20]\n",
    "for beta in betas:\n",
    "\n",
    "    agent.online_beta = beta\n",
    "    probs = np.zeros(len(M_range))\n",
    "    for i in range(0, len(qs), 4):\n",
    "        probs[i//4] = agent._policy(qs[i])[0]*agent._policy(qs[i+1])[0]*agent._policy(qs[i+2])[0]*agent._policy(qs[i+3])[0]\n",
    "    plt.plot(np.array(M_range), probs, label=r'$\\beta=%u$'%beta)\n",
    "\n",
    "probs = np.zeros(len(M_range))\n",
    "for i in range(0, len(qs), 4):\n",
    "    probs[i//4] = (qs[i][0] == np.nanmax(qs[i]))*(qs[i+1][0] == np.nanmax(qs[i+1]))*(qs[i+2][0] == np.nanmax(qs[i+2]))*(qs[i+3][0] == np.nanmax(qs[i+3]))\n",
    "plt.plot(np.array(M_range), probs, label='greedy')\n",
    "\n",
    "plt.ylim(-0.05, 1.05)\n",
    "plt.xlim(0, 1)\n",
    "# plt.xticks(np.linspace(0, 1, 11), np.linspace(0, 1, 11), fontsize=12)\n",
    "plt.yticks(fontsize=12)\n",
    "plt.xlabel('Belief', fontsize=14)\n",
    "plt.ylabel('Exploration probability', fontsize=14)\n",
    "plt.legend(prop={'size':12})\n",
    "# plt.savefig('/home/georgy/Documents/Dayan_lab/PhD/bandits/maze/data/rldm_poster/tolman1/explore_proba.svg', transparent=True)"
   ]
  },
  {
   "cell_type": "code",
   "execution_count": null,
   "id": "ab687f51",
   "metadata": {},
   "outputs": [],
   "source": [
    "x = np.linspace(0, 1, 100)\n",
    "plt.plot(x, scipy.stats.beta.pdf(x, 7, 2))\n",
    "plt.xlabel('P(open)', fontsize=14)\n",
    "plt.ylabel('PDF', fontsize=14)\n",
    "plt.vlines(7/9, ymin=0, ymax=scipy.stats.beta.pdf(7/9, 7, 2), color='r', label=r'$\\mathbb{E}[P(open)]$')\n",
    "plt.legend(prop={'size':14})\n",
    "plt.savefig('/home/georgy/Documents/Dayan_lab/PhD/bandits/paper/figures/belief.svg', transparent=True)"
   ]
  },
  {
   "cell_type": "code",
   "execution_count": null,
   "id": "f4f7490f",
   "metadata": {},
   "outputs": [],
   "source": []
  }
 ],
 "metadata": {
  "kernelspec": {
   "display_name": "Python 3 (ipykernel)",
   "language": "python",
   "name": "python3"
  },
  "language_info": {
   "codemirror_mode": {
    "name": "ipython",
    "version": 3
   },
   "file_extension": ".py",
   "mimetype": "text/x-python",
   "name": "python",
   "nbconvert_exporter": "python",
   "pygments_lexer": "ipython3",
   "version": "3.9.7"
  },
  "varInspector": {
   "cols": {
    "lenName": 16,
    "lenType": 16,
    "lenVar": 40
   },
   "kernels_config": {
    "python": {
     "delete_cmd_postfix": "",
     "delete_cmd_prefix": "del ",
     "library": "var_list.py",
     "varRefreshCmd": "print(var_dic_list())"
    },
    "r": {
     "delete_cmd_postfix": ") ",
     "delete_cmd_prefix": "rm(",
     "library": "var_list.r",
     "varRefreshCmd": "cat(var_dic_list()) "
    }
   },
   "types_to_exclude": [
    "module",
    "function",
    "builtin_function_or_method",
    "instance",
    "_Feature"
   ],
   "window_display": false
  },
  "vscode": {
   "interpreter": {
    "hash": "88f7732e8f9a693edb644edfcd8e0fbe3010c75e872ef4c1a3b05e90351378d7"
   }
  }
 },
 "nbformat": 4,
 "nbformat_minor": 5
}
