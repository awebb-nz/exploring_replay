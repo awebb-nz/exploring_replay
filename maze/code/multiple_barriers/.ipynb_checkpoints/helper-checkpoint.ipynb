{
 "cells": [
  {
   "cell_type": "code",
   "execution_count": 1,
   "id": "1b9fd760",
   "metadata": {},
   "outputs": [],
   "source": [
    "import numpy as np\n",
    "import matplotlib.pyplot as plt\n",
    "import os, pickle\n",
    "from agent_replay import Agent \n",
    "from utils import plot_maze, load_env"
   ]
  },
  {
   "cell_type": "code",
   "execution_count": 2,
   "id": "405839d0",
   "metadata": {},
   "outputs": [],
   "source": [
    "env_file_path  = '/home/georgy/Documents/Dayan_lab/PhD/bandits/maze/code/mazes/tolman1.txt'\n",
    "env_config     = load_env(env_file_path)\n",
    "\n",
    "# --- Specify agent parameters ---\n",
    "ag_config = {\n",
    "    'alpha'          : 1,          # online learning rate\n",
    "    'alpha_r'        : 1,          # offline learning rate\n",
    "    'online_beta'    : 2,         # inverse temperature\n",
    "    'gain_beta'      : 50,\n",
    "    'need_beta'      : 60,\n",
    "    'policy_type'    : 'softmax',\n",
    "    'gamma'          : 0.85,       # discount\n",
    "    'horizon'        : 2,          # minus 1\n",
    "    'xi'             : 1e-9,       # EVB threshold\n",
    "    'num_sims'       : 2000,       # number of MC simulations\n",
    "\n",
    "    'phi'            : 0.5,\n",
    "    'kappa'          : 0.5,\n",
    "}\n",
    "\n",
    "agent = Agent(*[ag_config, env_config])"
   ]
  },
  {
   "cell_type": "code",
   "execution_count": 3,
   "id": "2e35837c",
   "metadata": {
    "scrolled": false
   },
   "outputs": [
    {
     "ename": "IndexError",
     "evalue": "index 0 is out of bounds for axis 0 with size 0",
     "output_type": "error",
     "traceback": [
      "\u001b[0;31m---------------------------------------------------------------------------\u001b[0m",
      "\u001b[0;31mIndexError\u001b[0m                                Traceback (most recent call last)",
      "\u001b[0;32m/tmp/ipykernel_29598/577277734.py\u001b[0m in \u001b[0;36m<module>\u001b[0;34m\u001b[0m\n\u001b[0;32m----> 1\u001b[0;31m \u001b[0mQ_MB\u001b[0m  \u001b[0;34m=\u001b[0m \u001b[0magent\u001b[0m\u001b[0;34m.\u001b[0m\u001b[0m_solve_mb\u001b[0m\u001b[0;34m(\u001b[0m\u001b[0;36m1e-5\u001b[0m\u001b[0;34m,\u001b[0m \u001b[0mbarriers\u001b[0m\u001b[0;34m=\u001b[0m\u001b[0;34m[\u001b[0m\u001b[0;36m1\u001b[0m\u001b[0;34m,\u001b[0m \u001b[0;36m0\u001b[0m\u001b[0;34m,\u001b[0m \u001b[0;36m0\u001b[0m\u001b[0;34m]\u001b[0m\u001b[0;34m)\u001b[0m\u001b[0;34m\u001b[0m\u001b[0;34m\u001b[0m\u001b[0m\n\u001b[0m",
      "\u001b[0;32m~/Documents/Dayan_lab/PhD/bandits/maze/code/multiple_barriers/agent_replay.py\u001b[0m in \u001b[0;36m_solve_mb\u001b[0;34m(self, eps, barriers)\u001b[0m\n\u001b[1;32m     94\u001b[0m                     \u001b[0;32mif\u001b[0m \u001b[0;34m~\u001b[0m\u001b[0mnp\u001b[0m\u001b[0;34m.\u001b[0m\u001b[0misnan\u001b[0m\u001b[0;34m(\u001b[0m\u001b[0mQ_MB\u001b[0m\u001b[0;34m[\u001b[0m\u001b[0ms\u001b[0m\u001b[0;34m,\u001b[0m \u001b[0ma\u001b[0m\u001b[0;34m]\u001b[0m\u001b[0;34m)\u001b[0m\u001b[0;34m:\u001b[0m\u001b[0;34m\u001b[0m\u001b[0;34m\u001b[0m\u001b[0m\n\u001b[1;32m     95\u001b[0m                         \u001b[0;32mif\u001b[0m \u001b[0;34m[\u001b[0m\u001b[0ms\u001b[0m\u001b[0;34m,\u001b[0m \u001b[0ma\u001b[0m\u001b[0;34m]\u001b[0m \u001b[0;32min\u001b[0m \u001b[0mself\u001b[0m\u001b[0;34m.\u001b[0m\u001b[0muncertain_states_actions\u001b[0m\u001b[0;34m:\u001b[0m\u001b[0;34m\u001b[0m\u001b[0;34m\u001b[0m\u001b[0m\n\u001b[0;32m---> 96\u001b[0;31m                             \u001b[0midx\u001b[0m   \u001b[0;34m=\u001b[0m \u001b[0mnp\u001b[0m\u001b[0;34m.\u001b[0m\u001b[0margwhere\u001b[0m\u001b[0;34m(\u001b[0m\u001b[0mself\u001b[0m\u001b[0;34m.\u001b[0m\u001b[0muncertain_states_actions\u001b[0m \u001b[0;34m==\u001b[0m \u001b[0;34m[\u001b[0m\u001b[0ms\u001b[0m\u001b[0;34m,\u001b[0m \u001b[0ma\u001b[0m\u001b[0;34m]\u001b[0m\u001b[0;34m)\u001b[0m\u001b[0;34m.\u001b[0m\u001b[0mflatten\u001b[0m\u001b[0;34m(\u001b[0m\u001b[0;34m)\u001b[0m\u001b[0;34m[\u001b[0m\u001b[0;36m0\u001b[0m\u001b[0;34m]\u001b[0m\u001b[0;34m\u001b[0m\u001b[0;34m\u001b[0m\u001b[0m\n\u001b[0m\u001b[1;32m     97\u001b[0m                             \u001b[0;32mif\u001b[0m \u001b[0mbarriers\u001b[0m\u001b[0;34m[\u001b[0m\u001b[0midx\u001b[0m\u001b[0;34m]\u001b[0m\u001b[0;34m:\u001b[0m\u001b[0;34m\u001b[0m\u001b[0;34m\u001b[0m\u001b[0m\n\u001b[1;32m     98\u001b[0m                                 \u001b[0ms1\u001b[0m\u001b[0;34m,\u001b[0m \u001b[0mr\u001b[0m \u001b[0;34m=\u001b[0m \u001b[0mself\u001b[0m\u001b[0;34m.\u001b[0m\u001b[0m_get_new_state\u001b[0m\u001b[0;34m(\u001b[0m\u001b[0ms\u001b[0m\u001b[0;34m,\u001b[0m \u001b[0ma\u001b[0m\u001b[0;34m,\u001b[0m \u001b[0munlocked\u001b[0m\u001b[0;34m=\u001b[0m\u001b[0;32mTrue\u001b[0m\u001b[0;34m)\u001b[0m\u001b[0;34m\u001b[0m\u001b[0;34m\u001b[0m\u001b[0m\n",
      "\u001b[0;31mIndexError\u001b[0m: index 0 is out of bounds for axis 0 with size 0"
     ]
    }
   ],
   "source": [
    "Q_MB  = agent._solve_mb(1e-5, barriers=[1, 0, 0])"
   ]
  },
  {
   "cell_type": "markdown",
   "id": "73dafc88",
   "metadata": {},
   "source": [
    "### Example replays"
   ]
  },
  {
   "cell_type": "code",
   "execution_count": null,
   "id": "a1123f1f",
   "metadata": {
    "hide_input": false
   },
   "outputs": [],
   "source": [
    "fig = plt.figure(figsize=(6, 5))\n",
    "ax  = fig.add_axes([0, 0, 1, 1])\n",
    "plot_maze(ax, Q_MB, agent)\n",
    "# plt.savefig('/home/georgy/Documents/Dayan_lab/PhD/bandits/maze/data/rldm_poster/tolman1/q_mb.svg', transparent=True)"
   ]
  },
  {
   "cell_type": "code",
   "execution_count": null,
   "id": "b5782198",
   "metadata": {},
   "outputs": [],
   "source": [
    "agent.state = 38          # start state\n",
    "agent.Q     = Q_MB.copy() # set MF Q values\n",
    "agent.M     = 0.5         # completely uncertain\n",
    "Q_history, gain_history, need_history = agent._replay()"
   ]
  },
  {
   "cell_type": "code",
   "execution_count": null,
   "id": "8fe82ded",
   "metadata": {},
   "outputs": [],
   "source": [
    "fig = plt.figure(figsize=(6, 5))\n",
    "ax  = fig.add_axes([0, 0, 1, 1])\n",
    "plot_maze(ax, agent.Q, agent)\n",
    "# plt.savefig('/home/georgy/Documents/Dayan_lab/PhD/bandits/maze/data/rldm_poster/tolman1/replay_before.svg', transparent=True)"
   ]
  },
  {
   "cell_type": "code",
   "execution_count": null,
   "id": "a18d5352",
   "metadata": {},
   "outputs": [],
   "source": [
    "fig = plt.figure(figsize=(6, 5))\n",
    "ax  = fig.add_axes([0, 0, 1, 1])\n",
    "plot_maze(ax, agent.Q - Q_MB, agent)\n",
    "# plt.savefig('/home/georgy/Documents/Dayan_lab/PhD/bandits/maze/data/rldm_poster/tolman1/replay_before_diff.svg', transparent=True)"
   ]
  },
  {
   "cell_type": "code",
   "execution_count": null,
   "id": "1e8470e5",
   "metadata": {},
   "outputs": [],
   "source": [
    "Q              = agent.Q.copy()\n",
    "Q_before       = Q.copy()\n",
    "Q_after        = Q.copy()\n",
    "Q_after[14, 0] = 0\n",
    "agent.Q        = Q_after"
   ]
  },
  {
   "cell_type": "code",
   "execution_count": null,
   "id": "615598c9",
   "metadata": {},
   "outputs": [],
   "source": [
    "fig = plt.figure(figsize=(6, 5))\n",
    "ax  = fig.add_axes([0, 0, 1, 1])\n",
    "plot_maze(ax, agent.Q, agent)\n",
    "# plt.savefig('/home/georgy/Documents/Dayan_lab/PhD/bandits/maze/data/rldm_poster/tolman1/online.svg', transparent=True)"
   ]
  },
  {
   "cell_type": "code",
   "execution_count": null,
   "id": "b896aff0",
   "metadata": {},
   "outputs": [],
   "source": [
    "fig = plt.figure(figsize=(6, 5))\n",
    "ax  = fig.add_axes([0, 0, 1, 1])\n",
    "plot_maze(ax, agent.Q - Q_before, agent)\n",
    "# plt.savefig('/home/georgy/Documents/Dayan_lab/PhD/bandits/maze/data/rldm_poster/tolman1/online_diff.svg', transparent=True)"
   ]
  },
  {
   "cell_type": "code",
   "execution_count": null,
   "id": "07153c8c",
   "metadata": {},
   "outputs": [],
   "source": [
    "Q_before    = agent.Q.copy()"
   ]
  },
  {
   "cell_type": "code",
   "execution_count": null,
   "id": "1ada4223",
   "metadata": {},
   "outputs": [],
   "source": [
    "agent.state = 14\n",
    "agent.M     = 0.0\n",
    "Q_history, gain_history, need_history = agent._replay()"
   ]
  },
  {
   "cell_type": "code",
   "execution_count": null,
   "id": "e6a2c272",
   "metadata": {},
   "outputs": [],
   "source": [
    "fig = plt.figure(figsize=(6, 5))\n",
    "ax  = fig.add_axes([0, 0, 1, 1])\n",
    "plot_maze(ax, agent.Q, agent)\n",
    "# plt.savefig('/home/georgy/Documents/Dayan_lab/PhD/bandits/maze/data/rldm_poster/tolman1/replay_after.svg', transparent=True)"
   ]
  },
  {
   "cell_type": "markdown",
   "id": "161ddac7",
   "metadata": {},
   "source": [
    "#### message chris about the cvar paper: what actions are replayed: towards or away? (looks like away; or are those policy changes as opposed to values?)"
   ]
  },
  {
   "cell_type": "code",
   "execution_count": null,
   "id": "5821e573",
   "metadata": {},
   "outputs": [],
   "source": [
    "fig = plt.figure(figsize=(6, 5))\n",
    "ax  = fig.add_axes([0, 0, 1, 1])\n",
    "plot_maze(ax, agent.Q - Q_before, agent)\n",
    "# plt.savefig('/home/georgy/Documents/Dayan_lab/PhD/bandits/maze/data/rldm_poster/tolman1/replay_after_diff.svg', transparent=True)"
   ]
  },
  {
   "cell_type": "markdown",
   "id": "eb41cd51",
   "metadata": {},
   "source": [
    "### Exploration probability"
   ]
  },
  {
   "cell_type": "code",
   "execution_count": null,
   "id": "d83f2638",
   "metadata": {},
   "outputs": [],
   "source": [
    "np.random.seed(0)\n",
    "\n",
    "agent.state  = 38 # start state\n",
    "M_range      = [0.0, 0.1, 0.2, 0.3, 0.4, 0.5, 0.6, 0.7, 0.8, 0.9, 1.0]\n",
    "qs           = []\n",
    "\n",
    "for M in M_range:\n",
    "    agent.Q  = Q_MB.copy()\n",
    "    agent.M  = M\n",
    "    \n",
    "    _, _, _  = agent._replay()\n",
    "    \n",
    "    Q_after  = agent.Q.copy()\n",
    "    \n",
    "    qs      += [Q_after[14, :].copy(), Q_after[20, :].copy(), Q_after[26, :].copy(), Q_after[32, :].copy()]"
   ]
  },
  {
   "cell_type": "code",
   "execution_count": null,
   "id": "1621dd96",
   "metadata": {},
   "outputs": [],
   "source": [
    "betas = [1, 5, 10, 20]\n",
    "for beta in betas:\n",
    "\n",
    "    agent.online_beta = beta\n",
    "    probs = np.zeros(len(M_range))\n",
    "    for i in range(0, len(qs), 4):\n",
    "        probs[i//4] = agent._policy(qs[i])[0]*agent._policy(qs[i+1])[0]*agent._policy(qs[i+2])[0]*agent._policy(qs[i+3])[0]\n",
    "    plt.plot(np.array(M_range), probs, label=r'$\\beta=%u$'%beta)\n",
    "\n",
    "probs = np.zeros(len(M_range))\n",
    "for i in range(0, len(qs), 4):\n",
    "    probs[i//4] = (qs[i][0] == np.nanmax(qs[i]))*(qs[i+1][0] == np.nanmax(qs[i+1]))*(qs[i+2][0] == np.nanmax(qs[i+2]))*(qs[i+3][0] == np.nanmax(qs[i+3]))\n",
    "plt.plot(np.array(M_range), probs, label='greedy')\n",
    "\n",
    "plt.ylim(-0.05, 1.05)\n",
    "plt.xlim(0, 1)\n",
    "# plt.xticks(np.linspace(0, 1, 11), np.linspace(0, 1, 11), fontsize=12)\n",
    "plt.yticks(fontsize=12)\n",
    "plt.xlabel('Belief', fontsize=14)\n",
    "plt.ylabel('Exploration probability', fontsize=14)\n",
    "plt.legend(prop={'size':12})\n",
    "# plt.savefig('/home/georgy/Documents/Dayan_lab/PhD/bandits/maze/data/rldm_poster/tolman1/explore_proba.svg', transparent=True)"
   ]
  },
  {
   "cell_type": "code",
   "execution_count": null,
   "id": "366750eb",
   "metadata": {},
   "outputs": [],
   "source": []
  }
 ],
 "metadata": {
  "kernelspec": {
   "display_name": "Python 3 (ipykernel)",
   "language": "python",
   "name": "python3"
  },
  "language_info": {
   "codemirror_mode": {
    "name": "ipython",
    "version": 3
   },
   "file_extension": ".py",
   "mimetype": "text/x-python",
   "name": "python",
   "nbconvert_exporter": "python",
   "pygments_lexer": "ipython3",
   "version": "3.9.7"
  },
  "varInspector": {
   "cols": {
    "lenName": 16,
    "lenType": 16,
    "lenVar": 40
   },
   "kernels_config": {
    "python": {
     "delete_cmd_postfix": "",
     "delete_cmd_prefix": "del ",
     "library": "var_list.py",
     "varRefreshCmd": "print(var_dic_list())"
    },
    "r": {
     "delete_cmd_postfix": ") ",
     "delete_cmd_prefix": "rm(",
     "library": "var_list.r",
     "varRefreshCmd": "cat(var_dic_list()) "
    }
   },
   "types_to_exclude": [
    "module",
    "function",
    "builtin_function_or_method",
    "instance",
    "_Feature"
   ],
   "window_display": false
  }
 },
 "nbformat": 4,
 "nbformat_minor": 5
}
