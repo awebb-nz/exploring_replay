{
 "cells": [
  {
   "cell_type": "code",
   "execution_count": null,
   "id": "3c4986d8",
   "metadata": {},
   "outputs": [],
   "source": [
    "import numpy as np\n",
    "import matplotlib.pyplot as plt\n",
    "import os, shutil"
   ]
  },
  {
   "cell_type": "markdown",
   "id": "7b66ed72",
   "metadata": {},
   "source": [
    "### Initialise the agent"
   ]
  },
  {
   "cell_type": "code",
   "execution_count": null,
   "id": "3aa57b2f",
   "metadata": {},
   "outputs": [],
   "source": [
    "def policy(q_values, temp=None, policy_type='softmax'):\n",
    "\n",
    "    '''\n",
    "    ----\n",
    "    Agent's policy\n",
    "\n",
    "    q_values -- q values at the current state\n",
    "    temp     -- inverse temperature\n",
    "    type     -- softmax / greeedy\n",
    "    ----\n",
    "    '''\n",
    "\n",
    "    if np.all(q_values == 0):\n",
    "        return np.array([0.5, 0.5])\n",
    "\n",
    "    if temp:\n",
    "        t = temp\n",
    "    else:\n",
    "        t = 1\n",
    "        \n",
    "    if policy_type == 'softmax':\n",
    "        return np.exp(q_values*t)/np.sum(np.exp(q_values*t))\n",
    "    elif policy_type == 'greedy':\n",
    "        return np.array(q_values >= q_values.max()).astype(int)\n",
    "    else:\n",
    "        raise KeyError('Unknown policy type')"
   ]
  },
  {
   "cell_type": "code",
   "execution_count": null,
   "id": "00cf38e2",
   "metadata": {},
   "outputs": [],
   "source": [
    "from belief_tree import Tree"
   ]
  },
  {
   "cell_type": "code",
   "execution_count": null,
   "id": "99f56304",
   "metadata": {},
   "outputs": [],
   "source": [
    "M = np.array([\n",
    "    [3, 1],\n",
    "    [1, 1]\n",
    "])\n",
    "\n",
    "gamma = 0.9\n",
    "xi    = 0.0\n",
    "\n",
    "Q = np.array([0.0, 0.0], dtype=np.float32)\n",
    "\n",
    "tree = Tree(M, Q, 1, 'softmax')"
   ]
  },
  {
   "cell_type": "markdown",
   "id": "c2cb9e80",
   "metadata": {},
   "source": [
    "### Full Bayesian updates"
   ]
  },
  {
   "cell_type": "code",
   "execution_count": null,
   "id": "d8e27056",
   "metadata": {},
   "outputs": [],
   "source": [
    "horizon = 5\n",
    "tree.build_tree(horizon)\n",
    "tree.full_updates(gamma)"
   ]
  },
  {
   "cell_type": "code",
   "execution_count": null,
   "id": "b87ba4bf",
   "metadata": {},
   "outputs": [],
   "source": [
    "qval_tree = tree.qval_tree\n",
    "qval_tree[0][(0, 0, 0)]"
   ]
  },
  {
   "cell_type": "markdown",
   "id": "96108735",
   "metadata": {},
   "source": [
    "### Replay"
   ]
  },
  {
   "cell_type": "code",
   "execution_count": null,
   "id": "e13547ce",
   "metadata": {},
   "outputs": [],
   "source": [
    "horizon = 5\n",
    "tree.build_tree(horizon)\n",
    "qval_history, need_history, replays = tree.replay_updates(gamma, xi)"
   ]
  },
  {
   "cell_type": "code",
   "execution_count": null,
   "id": "fd449612",
   "metadata": {},
   "outputs": [],
   "source": [
    "qval_tree = tree.qval_tree\n",
    "qval_tree[0][(0, 0, 0)]"
   ]
  },
  {
   "cell_type": "markdown",
   "id": "78c33603",
   "metadata": {},
   "source": [
    "### Generate replay tree"
   ]
  },
  {
   "cell_type": "code",
   "execution_count": null,
   "id": "7143eebc",
   "metadata": {},
   "outputs": [],
   "source": [
    "from tex_tree import generate_big_tex_tree\n",
    "\n",
    "save_folder = '/home/georgy/Documents/Dayan_lab/PhD/bandits/Data/example_tree/seq/'\n",
    "if os.path.exists(save_folder):\n",
    "    shutil.rmtree(save_folder)\n",
    "    os.mkdir(save_folder)\n",
    "else:\n",
    "    os.makedirs(save_folder)\n",
    "\n",
    "for idx, rep in enumerate(replays):\n",
    "    these_replays = replays[:idx+1]\n",
    "    save_path = os.path.join(save_folder, 'tex_tree_%u.tex'%idx)\n",
    "    generate_big_tex_tree(horizon, these_replays, qval_history[idx], need_history[idx], save_path)"
   ]
  },
  {
   "cell_type": "markdown",
   "id": "220c62fc",
   "metadata": {},
   "source": [
    "### Distribution updates asymmetry "
   ]
  },
  {
   "cell_type": "code",
   "execution_count": null,
   "id": "aa08eec9",
   "metadata": {},
   "outputs": [],
   "source": [
    "from scipy.stats import beta\n",
    "from scipy.special import kl_div"
   ]
  },
  {
   "cell_type": "code",
   "execution_count": null,
   "id": "6c2702e1",
   "metadata": {},
   "outputs": [],
   "source": [
    "x = np.linspace(0.001, 1, 100)\n",
    "\n",
    "a1b, b1b = np.array([2, 1])\n",
    "rv1b = beta(a1b, b1b)  \n",
    "\n",
    "a1a, b1a = np.array([3, 1])\n",
    "rv1a = beta(a1a, b1a)\n",
    "\n",
    "a1aa, b1aa = np.array([4, 1])\n",
    "rv1aa = beta(a1aa, b1aa)"
   ]
  },
  {
   "cell_type": "code",
   "execution_count": null,
   "id": "0d9a9247",
   "metadata": {},
   "outputs": [],
   "source": [
    "plt.figure(figsize=(10, 3))\n",
    "plt.subplot(131)\n",
    "plt.plot(x, rv1b.pdf(x))\n",
    "plt.title(r'$\\alpha=2, \\beta=1$')\n",
    "\n",
    "plt.subplot(132)\n",
    "plt.plot(x, rv1a.pdf(x))\n",
    "plt.title(r'$\\alpha=3, \\beta=1$')\n",
    "\n",
    "print(np.sum(kl_div(rv1b.pdf(x), rv1a.pdf(x))))\n",
    "\n",
    "plt.subplot(133)\n",
    "plt.plot(x, rv1aa.pdf(x))\n",
    "plt.title(r'$\\alpha=4, \\beta=1$')\n",
    "\n",
    "print(np.sum(kl_div(rv1a.pdf(x), rv1aa.pdf(x))))\n",
    "\n",
    "plt.tight_layout()\n",
    "\n",
    "# plt.savefig('/home/georgy/Documents/Dayan_lab/PhD/bandits/Data/betas.png')"
   ]
  },
  {
   "cell_type": "markdown",
   "id": "b9791ee7",
   "metadata": {},
   "source": [
    "### Convergence of replay values"
   ]
  },
  {
   "cell_type": "code",
   "execution_count": null,
   "id": "aea459a1",
   "metadata": {},
   "outputs": [],
   "source": [
    "save_folder = '/home/georgy/Documents/Dayan_lab/PhD/bandits/data/convergence/root_greedy'\n",
    "\n",
    "horizons = np.arange(2, 7)\n",
    "\n",
    "for alpha_0 in range(1, 13):\n",
    "\n",
    "    vals     = np.zeros((len(horizons), 2))\n",
    "\n",
    "    M = np.array([\n",
    "        [alpha_0, 1],\n",
    "        [1, 1]\n",
    "    ])\n",
    "\n",
    "    gamma = 0.9\n",
    "    xi    = 0.0\n",
    "\n",
    "    Q = np.array([0.0, 0.0], dtype=np.float32)\n",
    "\n",
    "    tree = Tree(M, Q, 1, 'softmax')\n",
    "\n",
    "    for horizon in horizons:\n",
    "        # build the tree\n",
    "        tree.build_tree(horizon)\n",
    "        # do full bayesian updates\n",
    "        tree.root_q_values = np.array([0.0, 0.0], dtype=np.float32)\n",
    "        tree.full_updates(gamma)\n",
    "        qval_tree = tree.qval_tree\n",
    "        qvals     = qval_tree[0][(0, 0, 0)]\n",
    "        print('Horizon %u'%horizon)\n",
    "        print('Full bayesian ', qvals)\n",
    "        v_full    = np.max(qvals)\n",
    "        # do replay\n",
    "        tree.root_q_values = np.array([0.0, 0.0], dtype=np.float32)\n",
    "        qval_history, need_history, replays = tree.replay_updates(gamma, xi)\n",
    "        qval_tree = tree.qval_tree\n",
    "        qvals     = qval_tree[0][(0, 0, 0)]\n",
    "        print('Replay ', qvals, '\\n')\n",
    "        v_replay  = np.max(qvals)\n",
    "        # append\n",
    "        vals[horizon-horizons[0], 0] = v_full\n",
    "        vals[horizon-horizons[0], 1] = v_replay\n",
    "\n",
    "    file_name   = '%u.png'%alpha_0\n",
    "\n",
    "    fig = plt.figure(figsize=(8, 5), dpi=100, constrained_layout=True)\n",
    "\n",
    "    x   = np.arange(horizons[0], horizons[-1]+1)\n",
    "    plt.scatter(x, vals[:, 0], label='Bayes-optimal')\n",
    "    plt.scatter(x, vals[:, 1], label='Replay with ' + r'$\\xi = %.2f$'%xi)\n",
    "    plt.title(r'$\\alpha_0=%u , \\beta_0=%u, \\alpha_1=%u, \\beta_1=%u$'%(M[0, 0], M[0, 1], M[1, 0], M[1, 1]), fontsize=14)\n",
    "    plt.xlabel('Horizon', fontsize=13)\n",
    "    plt.ylabel('Root value', fontsize=13)\n",
    "    plt.legend(prop={'size':13})\n",
    "\n",
    "    plt.savefig(os.path.join(save_folder, file_name))\n"
   ]
  },
  {
   "cell_type": "code",
   "execution_count": null,
   "id": "1a77e4bd",
   "metadata": {},
   "outputs": [],
   "source": [
    "import matplotlib.image as mpimg"
   ]
  },
  {
   "cell_type": "code",
   "execution_count": null,
   "id": "a839a6d7",
   "metadata": {},
   "outputs": [],
   "source": [
    "plt.figure(figsize=(18, 15), constrained_layout=True, dpi=100)\n",
    "for i in range(1, 13):\n",
    "    plt.subplot(4, 3, i)\n",
    "    plt.imshow(mpimg.imread(os.path.join(save_folder, '%u.png'%i)))\n",
    "    plt.axis('off')\n",
    "\n",
    "plt.savefig(os.path.join(save_folder, 'all.png'))"
   ]
  },
  {
   "cell_type": "code",
   "execution_count": null,
   "id": "6b5a2119",
   "metadata": {},
   "outputs": [],
   "source": []
  }
 ],
 "metadata": {
  "kernelspec": {
   "display_name": "Python 3",
   "language": "python",
   "name": "python3"
  },
  "language_info": {
   "codemirror_mode": {
    "name": "ipython",
    "version": 3
   },
   "file_extension": ".py",
   "mimetype": "text/x-python",
   "name": "python",
   "nbconvert_exporter": "python",
   "pygments_lexer": "ipython3",
   "version": "3.9.7"
  },
  "varInspector": {
   "cols": {
    "lenName": 16,
    "lenType": 16,
    "lenVar": 40
   },
   "kernels_config": {
    "python": {
     "delete_cmd_postfix": "",
     "delete_cmd_prefix": "del ",
     "library": "var_list.py",
     "varRefreshCmd": "print(var_dic_list())"
    },
    "r": {
     "delete_cmd_postfix": ") ",
     "delete_cmd_prefix": "rm(",
     "library": "var_list.r",
     "varRefreshCmd": "cat(var_dic_list()) "
    }
   },
   "position": {
    "height": "560.85px",
    "left": "1066px",
    "right": "20px",
    "top": "120px",
    "width": "354px"
   },
   "types_to_exclude": [
    "module",
    "function",
    "builtin_function_or_method",
    "instance",
    "_Feature"
   ],
   "window_display": false
  }
 },
 "nbformat": 4,
 "nbformat_minor": 5
}
