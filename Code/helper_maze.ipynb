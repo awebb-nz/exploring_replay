{
 "cells": [
  {
   "cell_type": "code",
   "execution_count": 3,
   "id": "b8a3ed96",
   "metadata": {
    "ExecuteTime": {
     "end_time": "2021-11-12T13:30:42.691103Z",
     "start_time": "2021-11-12T13:30:39.907259Z"
    }
   },
   "outputs": [],
   "source": [
    "from maze import *\n",
    "import os\n",
    "from scipy.stats import dirichlet\n",
    "%matplotlib inline\n",
    "from multiprocessing import Pool"
   ]
  },
  {
   "cell_type": "markdown",
   "id": "4f22df01",
   "metadata": {},
   "source": [
    "### Define all trivial functionality here"
   ]
  },
  {
   "cell_type": "code",
   "execution_count": 6,
   "id": "777cac9c",
   "metadata": {
    "ExecuteTime": {
     "end_time": "2021-11-11T14:23:34.702155Z",
     "start_time": "2021-11-11T14:23:34.671042Z"
    },
    "code_folding": [
     0
    ]
   },
   "outputs": [],
   "source": [
    "def policy_evaluation(Q_init, M, world, r_state, gamma):\n",
    "    \n",
    "    num_states, num_actions = Q_init.shape\n",
    "    \n",
    "    probas = policy(Q_init, 1.5)\n",
    "    Q_MB   = Q_init.copy()\n",
    "    p_mean = M/np.sum(M, axis=1)[:, None]\n",
    "    \n",
    "    delta  = np.zeros_like(Q_init)\n",
    "    \n",
    "    while True:\n",
    "        Q_old = Q_MB.copy()\n",
    "        for s in np.delete(range(num_states), r_state):\n",
    "            for a in range(num_actions):\n",
    "                q_new = 0\n",
    "                s1, _ = get_new_state(s, a, world, states, config_no_wall)\n",
    "                if s1 == s:\n",
    "                    q_new = np.nan\n",
    "                else:\n",
    "\n",
    "                    v     = np.nansum(probas * Q_MB, axis=1)\n",
    "                    p_vec = p_mean[s*num_actions+a, :]\n",
    "                    r     = world.ravel()\n",
    "                    q_new = np.nansum(p_vec*(r + gamma*v))\n",
    "\n",
    "                Q_MB[s, a] = q_new\n",
    "                \n",
    "        delta = Q_MB - Q_old\n",
    "        if np.nanmax(abs(delta)) <= 1e-3:\n",
    "            return Q_MB\n",
    "\n",
    "def value_iteration(Q_init, M, world, r_state, gamma):\n",
    "    \n",
    "    num_states, num_actions = Q_init.shape\n",
    "    \n",
    "    Q_MB   = Q_init.copy()\n",
    "    p_mean = M/np.sum(M, axis=1)[:, None]\n",
    "    \n",
    "    delta  = np.zeros_like(Q_init)\n",
    "    \n",
    "    while True:\n",
    "        Q_old = Q_MB.copy()\n",
    "        for s in np.delete(range(num_states), r_state):\n",
    "            for a in range(num_actions):\n",
    "                q_new = 0\n",
    "                s1, _ = get_new_state(s, a, world, states, config_no_wall)\n",
    "                if s1 == s:\n",
    "                    q_new = np.nan\n",
    "                else:\n",
    "\n",
    "                    v     = np.nanmax(Q_MB, axis=1)\n",
    "                    p_vec = p_mean[s*num_actions+a, :]\n",
    "                    r     = world.ravel()\n",
    "                    q_new = np.nansum(p_vec*(r + gamma*v))\n",
    "\n",
    "                Q_MB[s, a] = q_new\n",
    "                \n",
    "        delta = Q_MB - Q_old\n",
    "        if np.nanmax(abs(delta)) <= 1e-3:\n",
    "            return Q_MB\n",
    "        \n",
    "def policy(q, beta):\n",
    "    if len(q.shape[0]) == 1:\n",
    "        return np.exp(q + beta)/np.nansum(np.exp(q + beta))\n",
    "    else:\n",
    "        return np.exp(q + beta)/np.nansum(np.exp(q + beta), axis=1)[:, None]\n",
    "\n",
    "def gain(q_mf, q_mb, a, alpha, beta):\n",
    "    \n",
    "    if np.isnan(q_mf[a]):\n",
    "        return np.nan\n",
    "    \n",
    "    q_mf_old  = q_mf.copy()\n",
    "    probs_pre = policy(q_mf_old, beta)\n",
    "    \n",
    "    q_mf_new    = q_mf.copy()\n",
    "    q_mf_new[a] = q_mf[a] + alpha*(q_mb[a] - q_mf[a])\n",
    "    \n",
    "    probs_after = policy(q_mf_new, beta)\n",
    "    \n",
    "    return np.nansum(q_mf_new*probs_after) - np.nansum(q_mf_old*probs_pre)"
   ]
  },
  {
   "cell_type": "markdown",
   "id": "80c085fa",
   "metadata": {},
   "source": [
    "### Transition model prior pseudocounts"
   ]
  },
  {
   "cell_type": "code",
   "execution_count": null,
   "id": "4dd76b75",
   "metadata": {},
   "outputs": [],
   "source": [
    "M = np.ones((num_states*num_actions, num_states))\n",
    "\n",
    "for s in np.delete(range(num_states), [r_state]):\n",
    "    for a in range(num_actions):\n",
    "        s1, _ = get_new_state(s, a, world, states, config_wall)\n",
    "        M[s*num_actions+a, s1] += 1000\n",
    "        \n",
    "for a in range(num_actions):\n",
    "    M[r_state*num_actions+a, start_state] += 1000"
   ]
  },
  {
   "cell_type": "markdown",
   "id": "880ec99f",
   "metadata": {},
   "source": [
    "### Initialise MF Q values"
   ]
  },
  {
   "cell_type": "code",
   "execution_count": null,
   "id": "98527f26",
   "metadata": {},
   "outputs": [],
   "source": [
    "Q_init = np.zeros((num_states, num_actions))\n",
    "gamma  = 0.9\n",
    "Q_MF   = value_iteration(Q_init, M, world, r_state, gamma)"
   ]
  },
  {
   "cell_type": "code",
   "execution_count": 8,
   "id": "ebccda74",
   "metadata": {
    "ExecuteTime": {
     "end_time": "2021-11-11T14:23:35.863144Z",
     "start_time": "2021-11-11T14:23:35.440440Z"
    }
   },
   "outputs": [
    {
     "data": {
      "image/png": "[encoded data removed]",
      "text/plain": [
       "<Figure size 864x360 with 2 Axes>"
      ]
     },
     "metadata": {
      "needs_background": "light"
     },
     "output_type": "display_data"
    }
   ],
   "source": [
    "fig = plt.figure(figsize=(12, 5))\n",
    "ax  = plt.subplot(111)\n",
    "plot_maze_values(Q_MF, ax, hwall=[2, 1, 8], vwall=None)\n",
    "# plt.savefig(os.path.join(os.getcwd(), 'mf_values.png'))"
   ]
  },
  {
   "cell_type": "markdown",
   "id": "c9210f86",
   "metadata": {},
   "source": [
    "### Belief MDP value iteration"
   ]
  },
  {
   "cell_type": "code",
   "execution_count": 47,
   "id": "01c3ef5a",
   "metadata": {
    "ExecuteTime": {
     "end_time": "2021-11-12T13:30:48.351790Z",
     "start_time": "2021-11-12T13:30:48.336832Z"
    },
    "code_folding": []
   },
   "outputs": [],
   "source": [
    "def get_belief_tree(s, a, h, b):\n",
    "\n",
    "    # initialise the hyperstate tree\n",
    "    tree = {hi:{} for hi in range(h)}\n",
    "    \n",
    "    tree[0][(s, a, 0)] = b\n",
    "\n",
    "    for hi in range(1, h):\n",
    "        c  = 0\n",
    "        for k, v in tree[hi-1].items():\n",
    "            \n",
    "            s = k[0]\n",
    "            a = k[1]\n",
    "            prev_c = k[-1]\n",
    "            \n",
    "            # Do not continue if reached reward state \n",
    "            if s == r_state:\n",
    "                continue\n",
    "            \n",
    "            for s1 in range(num_states):\n",
    "                \n",
    "                b1 = v.copy()\n",
    "                b1[s*num_actions+a, s1] += 10\n",
    "                \n",
    "                for a1 in range(num_actions):\n",
    "                    \n",
    "                    tree[hi][(s1, a1, prev_c, c)] = b1\n",
    "                    c += 1\n",
    "    return tree\n",
    "\n",
    "def belief_vi(current_s, current_a, h, current_b):\n",
    "    \n",
    "    belief_tree    = get_belief_tree(current_s, current_a, h, current_b)\n",
    "    \n",
    "    # Compute the values of all information states \n",
    "    # reached at horizon h\n",
    "    \n",
    "    hi = (h-1)\n",
    "    \n",
    "    this_tree      = belief_tree[hi]\n",
    "    q_values_tree  = {hi:{} for hi in range(h)}\n",
    "    entropies_tree = {hi:{} for hi in range(h)}\n",
    "    probas_tree    = {hi:{} for hi in range(h)}\n",
    "    \n",
    "    for k, v in this_tree.items():\n",
    "        \n",
    "        M = v.copy()\n",
    "        b = M/np.sum(M, axis=1)[:, None]\n",
    "        \n",
    "        s = k[0]\n",
    "        a = k[1]\n",
    "        \n",
    "        c = k[-1]\n",
    "        \n",
    "        q_max = np.nanmax(Q_MF, axis=1)\n",
    "        \n",
    "        if s == r_state:\n",
    "            q_val = 0\n",
    "        else:\n",
    "            r     = world.ravel()\n",
    "            q_val = np.dot(b[s*num_actions+a, :], r + gamma*q_max)\n",
    "        \n",
    "        ent = np.zeros(M.shape[0])\n",
    "        for i in range(len(ent)):\n",
    "            ent[i] = dirichlet.entropy(M[i, :])\n",
    "        \n",
    "        q_values_tree[hi][k]  = q_val\n",
    "        entropies_tree[hi][k] = ent\n",
    "        probas_tree[hi][k]    = b\n",
    "                \n",
    "    for hi in reversed(range(0, h-1)):\n",
    "        \n",
    "        this_tree          = belief_tree[hi]\n",
    "        new_entropies_tree = {}\n",
    "        new_q_values_tree  = {}\n",
    "        new_probas_tree    = {}\n",
    "        \n",
    "        for k, v in this_tree.items():\n",
    "            \n",
    "            M  = v.copy()\n",
    "            b  = M/np.sum(M, axis=1)[:, None]\n",
    "            \n",
    "            s  = k[0]\n",
    "            a  = k[1]\n",
    "            \n",
    "            c  = k[-1]\n",
    "            \n",
    "            tmp      = {}\n",
    "            tmp_ent  = {}\n",
    "            tmp_prob = {}\n",
    "            \n",
    "            for kv, vv in q_values_tree[hi+1].items():\n",
    "                if kv[-2] == c:\n",
    "                    tmp[kv]      = vv\n",
    "                    tmp_ent[kv]  = entropies_tree[hi+1][kv]\n",
    "                    tmp_prob[kv] = probas_tree[hi+1][kv]\n",
    "                    \n",
    "            if tmp == {}:\n",
    "\n",
    "                q_max = np.nanmax(Q_MF, axis=1)\n",
    "                ent   = np.zeros(M.shape[0])\n",
    "                prob  = b\n",
    "                \n",
    "                for i in range(len(ent)):\n",
    "                    ent[i] = dirichlet.entropy(M[i, :])\n",
    "\n",
    "                # Q_MB_tmp = value_iteration(Q_MF, M, world, r_state, gamma)\n",
    "                # q_val    = Q_MB_tmp[s, a]\n",
    "                \n",
    "                if s == r_state:\n",
    "                    q_val = 0\n",
    "                else:\n",
    "                    r     = world.ravel()\n",
    "                    q_val = np.dot(b[s*num_actions+a, :], r + gamma*q_max)\n",
    "\n",
    "            else:\n",
    "                q_val = 0\n",
    "                ent   = np.zeros(M.shape[0])\n",
    "                prob  = np.zeros((num_states*num_actions, num_states))\n",
    "                keys  = list(tmp.keys())\n",
    "                \n",
    "                for key_idx in range(0, len(keys), num_actions):\n",
    "                    qs = []\n",
    "                    es = []\n",
    "                    ps = []\n",
    "                    s1 = int(keys[key_idx][0])\n",
    "                    \n",
    "                    for t in range(num_actions):\n",
    "                        qs += [tmp[keys[key_idx+t]]]\n",
    "                        es += [tmp_ent[keys[key_idx+t]]]\n",
    "                        ps += [tmp_prob[keys[key_idx+t]]]\n",
    "                    \n",
    "                    idx    = np.argmax(qs)\n",
    "                    q_val += b[s*num_actions+a, s1]*(world.ravel()[s1] + gamma*qs[idx])\n",
    "                    ent   += b[s*num_actions+a, s1]*es[idx]\n",
    "                    prob  += b[s*num_actions+a, s1]*ps[idx]\n",
    "                    \n",
    "            new_q_values_tree[k]  = q_val\n",
    "            new_entropies_tree[k] = ent\n",
    "            new_probas_tree[k]    = prob\n",
    "            \n",
    "        q_values_tree[hi]  = new_q_values_tree\n",
    "        entropies_tree[hi] = new_entropies_tree\n",
    "        probas_tree[hi]    = new_probas_tree\n",
    "    \n",
    "    print('State %u action %u done'%(current_s, current_a))\n",
    "    return belief_tree, q_values_tree, probas_tree, entropies_tree"
   ]
  },
  {
   "cell_type": "code",
   "execution_count": 48,
   "id": "988cc224",
   "metadata": {},
   "outputs": [],
   "source": [
    "M[23*num_actions+0, 23] = 30"
   ]
  },
  {
   "cell_type": "code",
   "execution_count": 49,
   "id": "3da4a629",
   "metadata": {},
   "outputs": [
    {
     "name": "stdout",
     "output_type": "stream",
     "text": [
      "State 0 action 0 done\n",
      "State 4 action 0 done\n",
      "State 2 action 0 done\n",
      "State 6 action 0 done\n",
      "State 0 action 1 done\n",
      "State 4 action 1 done\n",
      "State 6 action 1 done\n",
      "State 2 action 1 done\n",
      "State 4 action 2 done\n",
      "State 0 action 2 done\n",
      "State 6 action 2 done\n",
      "State 2 action 2 done\n",
      "State 4 action 3 done\n",
      "State 6 action 3 done\n",
      "State 0 action 3 done\n",
      "State 2 action 3 done\n",
      "State 5 action 0 done\n",
      "State 8 action 0 done\n",
      "State 1 action 0 done\n",
      "State 3 action 0 done\n",
      "State 5 action 1 done\n",
      "State 8 action 1 done\n",
      "State 1 action 1 done\n",
      "State 3 action 1 done\n",
      "State 5 action 2 done\n",
      "State 8 action 2 done\n",
      "State 1 action 2 done\n",
      "State 3 action 2 done\n",
      "State 5 action 3 done\n",
      "State 8 action 3 done\n",
      "State 1 action 3 done\n",
      "State 3 action 3 done\n",
      "State 9 action 0 done\n",
      "State 11 action 0 done\n",
      "State 13 action 0 done\n",
      "State 15 action 0 done\n",
      "State 9 action 1 done\n",
      "State 11 action 1 done\n",
      "State 13 action 1 done\n",
      "State 15 action 1 done\n",
      "State 9 action 2 done\n",
      "State 11 action 2 done\n",
      "State 13 action 2 done\n",
      "State 15 action 2 done\n",
      "State 9 action 3 done\n",
      "State 11 action 3 done\n",
      "State 13 action 3 done\n",
      "State 15 action 3 done\n",
      "State 10 action 0 done\n",
      "State 12 action 0 done\n",
      "State 14 action 0 done\n",
      "State 16 action 0 done\n",
      "State 10 action 1 done\n",
      "State 12 action 1 done\n",
      "State 14 action 1 done\n",
      "State 16 action 1 done\n",
      "State 10 action 2 done\n",
      "State 12 action 2 done\n",
      "State 14 action 2 done\n",
      "State 16 action 2 done\n",
      "State 10 action 3 done\n",
      "State 12 action 3 done\n",
      "State 14 action 3 done\n",
      "State 16 action 3 done\n",
      "State 17 action 0 done\n",
      "State 19 action 0 done\n",
      "State 21 action 0 done\n",
      "State 23 action 0 done\n",
      "State 17 action 1 done\n",
      "State 19 action 1 done\n",
      "State 21 action 1 done\n",
      "State 23 action 1 done\n",
      "State 17 action 2 done\n",
      "State 19 action 2 done\n",
      "State 21 action 2 done\n",
      "State 23 action 2 done\n",
      "State 17 action 3 done\n",
      "State 19 action 3 done\n",
      "State 21 action 3 done\n",
      "State 23 action 3 done\n",
      "State 18 action 0 done\n",
      "State 20 action 0 done\n",
      "State 22 action 0 done\n",
      "State 24 action 0 done\n",
      "State 18 action 1 done\n",
      "State 20 action 1 done\n",
      "State 22 action 1 done\n",
      "State 24 action 1 done\n",
      "State 18 action 2 done\n",
      "State 20 action 2 done\n",
      "State 22 action 2 done\n",
      "State 24 action 2 done\n",
      "State 18 action 3 done\n",
      "State 20 action 3 done\n",
      "State 22 action 3 done\n",
      "State 24 action 3 done\n",
      "State 25 action 0 done\n",
      "State 27 action 0 done\n",
      "State 29 action 0 done\n",
      "State 31 action 0 done\n",
      "State 25 action 1 done\n",
      "State 27 action 1 done\n",
      "State 29 action 1 done\n",
      "State 31 action 1 done\n",
      "State 25 action 2 done\n",
      "State 27 action 2 done\n",
      "State 29 action 2 done\n",
      "State 31 action 2 done\n",
      "State 25 action 3 done\n",
      "State 27 action 3 done\n",
      "State 29 action 3 done\n",
      "State 31 action 3 done\n",
      "State 26 action 0 done\n",
      "State 28 action 0 done\n",
      "State 30 action 0 done\n",
      "State 26 action 1 done\n",
      "State 28 action 1 done\n",
      "State 30 action 1 done\n",
      "State 26 action 2 done\n",
      "State 28 action 2 done\n",
      "State 30 action 2 done\n",
      "State 26 action 3 done\n",
      "State 28 action 3 done\n",
      "State 30 action 3 done\n"
     ]
    }
   ],
   "source": [
    "horizon = 2\n",
    "with Pool(4) as p:\n",
    "    params = [(s, a, horizon, M) for s in np.delete(range(num_states), r_state) for a in range(num_actions)]\n",
    "    res    = p.starmap(belief_vi, params)"
   ]
  },
  {
   "cell_type": "markdown",
   "id": "b9e5ec49",
   "metadata": {},
   "source": [
    "### MB Q values"
   ]
  },
  {
   "cell_type": "code",
   "execution_count": 58,
   "id": "98e3ccf0",
   "metadata": {},
   "outputs": [],
   "source": [
    "Q_MB = np.zeros((num_states, num_actions))\n",
    "\n",
    "for val in res:\n",
    "    \n",
    "    b_tree  = val[0][0]\n",
    "    s, a, _ = list(b_tree.keys())[0]\n",
    "    \n",
    "    if s == r_state:\n",
    "        continue\n",
    "    \n",
    "    Q_MB[s, a] = val[1][0][(s, a, 0)]"
   ]
  },
  {
   "cell_type": "code",
   "execution_count": 59,
   "id": "f72cbf00",
   "metadata": {
    "ExecuteTime": {
     "end_time": "2021-11-12T13:32:03.842951Z",
     "start_time": "2021-11-12T13:31:19.567Z"
    }
   },
   "outputs": [
    {
     "data": {
      "image/png": "[encoded data removed]",
      "text/plain": [
       "<Figure size 864x360 with 2 Axes>"
      ]
     },
     "metadata": {
      "needs_background": "light"
     },
     "output_type": "display_data"
    }
   ],
   "source": [
    "fig = plt.figure(figsize=(12, 5))\n",
    "ax  = plt.subplot(111)\n",
    "plot_maze_values(Q_MB, ax, hwall=[2, 1, 8], vwall=None)\n",
    "# plt.savefig(os.path.join(os.getcwd(), 'belief_vi_h%u_values.png'%horizon))"
   ]
  },
  {
   "cell_type": "code",
   "execution_count": null,
   "id": "85ecefba",
   "metadata": {},
   "outputs": [],
   "source": [
    "fig = plt.figure(figsize=(12, 5))\n",
    "ax  = plt.subplot(111)\n",
    "plot_maze_values(IG, ax, hwall=[2, 1, 8], vwall=None)\n",
    "# plt.savefig(os.path.join(os.getcwd(), 'belief_vi_h%u_ig.png'%horizon))"
   ]
  },
  {
   "cell_type": "code",
   "execution_count": null,
   "id": "8b2fa98c",
   "metadata": {},
   "outputs": [],
   "source": [
    "Gain = np.zeros((num_states, num_actions))\n",
    "for s in np.delete(range(num_states), r_state):\n",
    "# for s in states:\n",
    "    for a in range(num_actions):\n",
    "        Gain[s, a] = gain(Q_MF[s, :], Q_MB[s, :], a, 0.5, 1.5)"
   ]
  },
  {
   "cell_type": "code",
   "execution_count": null,
   "id": "92fbd8e2",
   "metadata": {},
   "outputs": [],
   "source": [
    "fig = plt.figure(figsize=(12, 5))\n",
    "ax  = plt.subplot(111)\n",
    "plot_maze_values(Gain, ax, hwall=[2, 1, 8], vwall=None)\n",
    "plt.savefig(os.path.join(os.getcwd(), 'belief_vi_h%u_gain.png'%horizon))"
   ]
  },
  {
   "cell_type": "code",
   "execution_count": null,
   "id": "390ca632",
   "metadata": {},
   "outputs": [],
   "source": [
    "def marginalise(T, Q):\n",
    "    \n",
    "    t      = np.zeros((num_states, num_states))\n",
    "    for s in range(num_states):\n",
    "        ps            = T[s*num_actions:s*num_actions+num_actions, :]\n",
    "        action_probas = policy(Q[s, :], 1.5)\n",
    "        for a in range(num_actions):\n",
    "            if ~np.isnan(action_probas[a]):\n",
    "                t[s, :] += action_probas[a]*ps[a, :]\n",
    "                \n",
    "    return t"
   ]
  },
  {
   "cell_type": "code",
   "execution_count": null,
   "id": "351019f8",
   "metadata": {},
   "outputs": [],
   "source": [
    "data3 = np.load('horizon3.npz')\n",
    "Q_MB  = data3['Q_MB']"
   ]
  },
  {
   "cell_type": "code",
   "execution_count": null,
   "id": "f2efb5c6",
   "metadata": {},
   "outputs": [],
   "source": [
    "T = M/np.sum(M, axis=1)[:, None]\n",
    "t1  = marginalise(T, Q_MB)"
   ]
  },
  {
   "cell_type": "code",
   "execution_count": null,
   "id": "6a3cd86a",
   "metadata": {},
   "outputs": [],
   "source": [
    "t2 = np.zeros((num_states, num_states))\n",
    "for s in range(num_states):\n",
    "    probs = policy(Q_MB[s, :], 1.5)\n",
    "    for a in range(num_actions):\n",
    "        if ~np.isnan(Q_MB[s, a]):\n",
    "            for s1 in range(num_states):\n",
    "                \n",
    "                b   = M.copy()\n",
    "                b   = b/np.sum(b, axis=1)[:, None]\n",
    "                \n",
    "                b1  = M.copy()\n",
    "                b1[s*num_actions + a, s1] += 1\n",
    "                b1  = b1/np.sum(b1, axis=1)[:, None]\n",
    "                \n",
    "                t2[s, :] += probs[a] * b[s*num_actions+a, s1] * b1[s*num_actions+a, :]\n",
    "\n",
    "t3 = np.zeros((num_states, num_states))\n",
    "for s in range(num_states):\n",
    "    probs = policy(Q_MB[s, :], 1.5)\n",
    "    for a in range(num_actions):\n",
    "        if ~np.isnan(Q_MB[s, a]):\n",
    "            for s1 in range(num_states):\n",
    "                \n",
    "                b   = M.copy()\n",
    "                b   = b/np.sum(b, axis=1)[:, None]\n",
    "                \n",
    "                b1  = M.copy()\n",
    "                b1[s*num_actions + a, s1] += 1\n",
    "                \n",
    "                probs1 = policy(Q_MB[s1, :], 1.5)\n",
    "                for a1 in range(num_actions):\n",
    "                    if ~np.isnan(Q_MB[s1, a1]):\n",
    "                        for s2 in range(num_states):\n",
    "                            \n",
    "                            b2 = b1.copy()\n",
    "                            b2[s1*num_actions + a1, s2] += 1\n",
    "                            b2  = b2/np.sum(b2, axis=1)[:, None]\n",
    "                            \n",
    "                            b1  = b1/np.sum(b1, axis=1)[:, None]\n",
    "                            \n",
    "                            t3[s, :] += probs[a] * b[s*num_actions+a, s1] * probs1[a1] * b1[s1*num_actions+a1, s2] * b2[s1*num_actions+a1, :]"
   ]
  },
  {
   "cell_type": "code",
   "execution_count": null,
   "id": "6165f88d",
   "metadata": {},
   "outputs": [],
   "source": [
    "SR = t1 + gamma*t2 + (np.linalg.inv(np.eye(num_states) - gamma*t3) - gamma*t3 - t3)\n",
    "# SR = np.linalg.inv(np.eye(num_states) - gamma*t3)\n",
    "# SR = np.linalg.inv(np.eye(num_states) - gamma*t2)\n",
    "# SR = np.linalg.inv(np.eye(num_states) - gamma*t1)"
   ]
  },
  {
   "cell_type": "code",
   "execution_count": null,
   "id": "175bb0c7",
   "metadata": {},
   "outputs": [],
   "source": [
    "fig = plt.figure(figsize=(12, 5))\n",
    "ax  = plt.subplot(111)\n",
    "plot_sr(SR, 27, ax, hwall=[2, 1, 8], vwall=None)"
   ]
  },
  {
   "cell_type": "code",
   "execution_count": null,
   "id": "6bbd6c20",
   "metadata": {},
   "outputs": [],
   "source": []
  }
 ],
 "metadata": {
  "kernelspec": {
   "display_name": "Python 3",
   "language": "python",
   "name": "python3"
  },
  "language_info": {
   "codemirror_mode": {
    "name": "ipython",
    "version": 3
   },
   "file_extension": ".py",
   "mimetype": "text/x-python",
   "name": "python",
   "nbconvert_exporter": "python",
   "pygments_lexer": "ipython3",
   "version": "3.7.6"
  },
  "varInspector": {
   "cols": {
    "lenName": 16,
    "lenType": 16,
    "lenVar": 40
   },
   "kernels_config": {
    "python": {
     "delete_cmd_postfix": "",
     "delete_cmd_prefix": "del ",
     "library": "var_list.py",
     "varRefreshCmd": "print(var_dic_list())"
    },
    "r": {
     "delete_cmd_postfix": ") ",
     "delete_cmd_prefix": "rm(",
     "library": "var_list.r",
     "varRefreshCmd": "cat(var_dic_list()) "
    }
   },
   "position": {
    "height": "560.85px",
    "left": "1066px",
    "right": "20px",
    "top": "120px",
    "width": "354px"
   },
   "types_to_exclude": [
    "module",
    "function",
    "builtin_function_or_method",
    "instance",
    "_Feature"
   ],
   "window_display": false
  }
 },
 "nbformat": 4,
 "nbformat_minor": 5
}
