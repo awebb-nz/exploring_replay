{
 "cells": [
  {
   "cell_type": "code",
   "execution_count": 1,
   "id": "b8a3ed96",
   "metadata": {
    "ExecuteTime": {
     "end_time": "2021-11-12T13:30:42.691103Z",
     "start_time": "2021-11-12T13:30:39.907259Z"
    }
   },
   "outputs": [],
   "source": [
    "import numpy as np\n",
    "from scipy.stats import beta\n",
    "import matplotlib.pyplot as plt"
   ]
  },
  {
   "cell_type": "markdown",
   "id": "602702df",
   "metadata": {},
   "source": [
    "### Initialise the environment"
   ]
  },
  {
   "cell_type": "code",
   "execution_count": 2,
   "id": "21499053",
   "metadata": {},
   "outputs": [],
   "source": [
    "p1 = 0.80 # true expected payoff for arm 1\n",
    "p2 = 0.40 # true expected payoff for arm 2\n",
    "\n",
    "arms = [p1, p2]"
   ]
  },
  {
   "cell_type": "markdown",
   "id": "4f22df01",
   "metadata": {},
   "source": [
    "### Initialise the agent"
   ]
  },
  {
   "cell_type": "code",
   "execution_count": 3,
   "id": "cfbacf49",
   "metadata": {},
   "outputs": [],
   "source": [
    "def policy(q_values, temp=None, type='softmax'):\n",
    "\n",
    "    if temp:\n",
    "        t = temp\n",
    "    else:\n",
    "        t = 1\n",
    "    if type == 'softmax':\n",
    "        return np.exp(q_values*t)/np.sum(np.exp(q_values*t))\n",
    "    else:\n",
    "        return np.array(q_values >= q_values.max()).astype(int)\n",
    "\n",
    "def belief_update(M_curr, arm, rew):\n",
    "\n",
    "    M_next = M_curr.copy()\n",
    "    if rew == 1:\n",
    "        M_next[arm, 0] += 1\n",
    "    else:\n",
    "        M_next[arm, 1] += 1\n",
    "    return M_next\n",
    "\n",
    "gamma   = 0.9\n",
    "gittins = np.genfromtxt('../Data/Gittins/gittins200_gamma09.csv', delimiter=',') # load gittins indices\n",
    "gittins = gittins[1:, 1:] # remove (0, .) and (., 0) priors\n",
    "\n",
    "# initial belief state\n",
    "M = np.array([\n",
    "    [1, 1],\n",
    "    [1, 1]\n",
    "], dtype=int)\n",
    "\n",
    "temp = 1 # inverse temperature for softmax"
   ]
  },
  {
   "cell_type": "markdown",
   "id": "d8441bc7",
   "metadata": {},
   "source": [
    "### Run the model-free agent"
   ]
  },
  {
   "cell_type": "code",
   "execution_count": 4,
   "id": "658fb1ff",
   "metadata": {},
   "outputs": [],
   "source": [
    "np.random.seed(1234)\n",
    "\n",
    "num_episodes = 180\n",
    "for ep in range(num_episodes):\n",
    "    Q  = np.array([gittins[M[0, 0], M[0, 1]], gittins[M[1, 0], M[1, 1]]])\n",
    "    # a = np.argmax(Q)\n",
    "    ps = policy(Q, temp=temp)\n",
    "    a  = np.random.choice([0, 1], p=ps)\n",
    "    r  = np.random.choice([0, 1], p=(1-arms[a], arms[a]))\n",
    "    M  = belief_update(M, a, r)"
   ]
  },
  {
   "cell_type": "markdown",
   "id": "7b9d1f84",
   "metadata": {},
   "source": [
    "### Plot the resulting belief"
   ]
  },
  {
   "cell_type": "code",
   "execution_count": 5,
   "id": "a36bd5ea",
   "metadata": {},
   "outputs": [
    {
     "data": {
      "text/plain": [
       "Text(0.5, 1.0, '$\\\\mathbb{E}[p\\\\mid b]$')"
      ]
     },
     "execution_count": 5,
     "metadata": {},
     "output_type": "execute_result"
    },
    {
     "data": {
      "image/png": "[encoded data removed]",
      "text/plain": [
       "<Figure size 1008x288 with 3 Axes>"
      ]
     },
     "metadata": {
      "needs_background": "light"
     },
     "output_type": "display_data"
    }
   ],
   "source": [
    "plt.figure(figsize=(14, 4))\n",
    "\n",
    "x = np.linspace(0, 1, 100)\n",
    "plt.subplot(1, 3, 1)\n",
    "a, b = M[0, 0], M[0, 1]\n",
    "rv = beta(a, b)\n",
    "plt.plot(x, rv.pdf(x), 'k-', lw=2)\n",
    "plt.xlim(0,1)\n",
    "plt.title('arm 1, p=%.2f'%arms[0])\n",
    "plt.subplot(1, 3, 2)\n",
    "a, b = M[1, 0], M[1, 1]\n",
    "rv = beta(a, b)\n",
    "plt.plot(x, rv.pdf(x), 'k-', lw=2)\n",
    "plt.xlim(0,1)\n",
    "plt.title('arm 2, p=%.2f'%arms[1])\n",
    "plt.subplot(1, 3, 3)\n",
    "plt.bar([1, 2], [M[0, 0]/np.sum(M[0, :]), M[1, 0]/np.sum(M[1, :])])\n",
    "plt.xticks([1, 2], [1, 2])\n",
    "plt.ylim(0,1)\n",
    "plt.title(r'$\\mathbb{E}[p\\mid b]$')"
   ]
  },
  {
   "cell_type": "code",
   "execution_count": 6,
   "id": "8a040e46",
   "metadata": {},
   "outputs": [
    {
     "data": {
      "text/plain": [
       "array([[78, 22],\n",
       "       [41, 43]])"
      ]
     },
     "execution_count": 6,
     "metadata": {},
     "output_type": "execute_result"
    }
   ],
   "source": [
    "M"
   ]
  },
  {
   "cell_type": "markdown",
   "id": "c9210f86",
   "metadata": {},
   "source": [
    "### Construct belief tree"
   ]
  },
  {
   "cell_type": "code",
   "execution_count": 7,
   "id": "01c3ef5a",
   "metadata": {
    "ExecuteTime": {
     "end_time": "2021-11-12T13:30:48.351790Z",
     "start_time": "2021-11-12T13:30:48.336832Z"
    },
    "code_folding": []
   },
   "outputs": [],
   "source": [
    "def get_belief_tree(h, b):\n",
    "\n",
    "    # initialise the hyperstate tree\n",
    "    tree = {hi:{} for hi in range(h)}\n",
    "    \n",
    "    tree[0][(0, 0)] = b\n",
    "    tree[0][(1, 1)] = b\n",
    "\n",
    "    for hi in range(1, h):\n",
    "        c = 0\n",
    "        for k, v in tree[hi-1].items():\n",
    "            \n",
    "            prev_c = k[-1]\n",
    "            prev_a = k[0]\n",
    "            \n",
    "            for r in [0, 1]:\n",
    "                \n",
    "                b1 = belief_update(v, prev_a, r)\n",
    "\n",
    "                for a in range(2):\n",
    "                    tree[hi][(a, prev_c, c)] = b1\n",
    "                    c += 1\n",
    "    return tree"
   ]
  },
  {
   "cell_type": "markdown",
   "id": "6f1c1f4a",
   "metadata": {},
   "source": [
    "### Replay in belief tree"
   ]
  },
  {
   "cell_type": "markdown",
   "id": "4bb0ec7d",
   "metadata": {},
   "source": [
    "We want to prioritise updates in this belief tree. The prioritisation scheme is the following:\n",
    "\n",
    "$$\n",
    "\\begin{align*}\n",
    "    v(ba^*)-v(b) =& \\mathbb{E}_{b'\\sim p(b'\\mid b, a^*)}\\Big[\\sum_a \\big(\\pi(a\\mid b')-\\pi(a\\mid b)\\big)q(b',a) \\\\\n",
    "    +& \\mathbb{E}_{a\\sim \\pi(a\\mid b)}\\big[r(b',a) - r(b,a)\\big]  \\\\ \n",
    "    +& \\mathbb{E}_{a\\sim \\pi(a\\mid b)}\\big[\\gamma \\sum_{b''}p(b''\\mid b', a)v(b'') - \\gamma \\sum_{g'}p(g'\\mid b, a)v(g') \\big] \\Big] \n",
    "\\end{align*}\n",
    "$$\n",
    "\n",
    "where $ba^*$ is a belief that results from choosing action $a^*$ from belief $b$, the policy $\\pi(a\\mid b)$ is determined by the Gittins index associated with belief $b$, $q(b', a)$ is the Gittins index, and $v(b')=\\mathbb{E}_{\\pi(a\\mid b')}\\big[q(b',a)\\big]$\n",
    "\n",
    "For the moment, we will only consider single-step updates from children to their parents"
   ]
  },
  {
   "cell_type": "code",
   "execution_count": 8,
   "id": "f2547e69",
   "metadata": {},
   "outputs": [],
   "source": [
    "def replay(tree, root_vals):\n",
    "    '''\n",
    "    calculate the evb for all tree nodes\n",
    "    -------\n",
    "    tree: belief tree\n",
    "    -------\n",
    "    '''\n",
    "\n",
    "    h         = len(tree.keys()) # planning horizon\n",
    "    evb_tree  = {hi:{} for hi in range(h)} # tree with evb values for each node\n",
    "    val_tree  = {hi:{} for hi in range(h)} # tree with value functions for each node\n",
    "\n",
    "    backups   = []\n",
    "\n",
    "    # first assign leaf values as immediate reward at all horizons\n",
    "    for hi in range(h):\n",
    "        for k, b in tree[hi].items():\n",
    "            if hi == 0:\n",
    "                q1 = root_vals[0]\n",
    "                q2 = root_vals[1]\n",
    "                q_values = np.array([q1, q2])\n",
    "            else:\n",
    "                q_values = np.array([b[0, 0]/np.sum(b[0, :]), b[1, 0]/np.sum(b[1, :])]) # initial q-values are just the immediate reward\n",
    "                \n",
    "            val_tree[hi][k] = np.dot(policy(q_values), q_values) # change temperature?\n",
    "\n",
    "    N = 100\n",
    "    # then compute evb for every backup\n",
    "    for _ in range(N): # for N steps\n",
    "        nval_tree = {hi:{} for hi in range(h)} # tree new updates value functions for each node\n",
    "        for hi in reversed(range(h-1)):\n",
    "            for k, b in tree[hi].items():\n",
    "\n",
    "                arm      = k[0]\n",
    "                v        = val_tree[hi][k] # current value of this belief state\n",
    "                c        = k[-1]\n",
    "                v_primes = []\n",
    "\n",
    "                for k1, v_prime in val_tree[hi+1].items():\n",
    "                    prev_c = k1[-2]\n",
    "                    if prev_c == c:\n",
    "                        v_primes += [v_prime] # values of next belief states\n",
    "\n",
    "                v_new = (b[arm, 0]/np.sum(b[arm, :]))*(1 + gamma*v_primes[0]) + (b[arm, 1]/np.sum(b[arm, :]))*(0 + gamma*v_primes[1])\n",
    "\n",
    "                evb_tree[hi][k]  = v_new - v\n",
    "                nval_tree[hi][k] = v_new\n",
    "\n",
    "        max_val = 0\n",
    "        for hi in reversed(range(h-1)):\n",
    "            for k, v in evb_tree[hi].items():\n",
    "                if v > max_val:\n",
    "                    backup  = [hi, k]\n",
    "                    max_val = v\n",
    "        if max_val == 0:\n",
    "            return val_tree, backups\n",
    "        \n",
    "        val_tree[backup[0]][backup[1]] = nval_tree[backup[0]][backup[1]]\n",
    "        backups += [[tree[backup[0]][backup[1]], backup[0], backup[1]]]\n",
    "\n",
    "    return val_tree, backups"
   ]
  },
  {
   "cell_type": "code",
   "execution_count": 9,
   "id": "a5f6a0ea",
   "metadata": {},
   "outputs": [],
   "source": [
    "M = np.array([\n",
    "    [2, 1],\n",
    "    [1, 1]\n",
    "])"
   ]
  },
  {
   "cell_type": "code",
   "execution_count": 10,
   "id": "6a5e83d2",
   "metadata": {},
   "outputs": [],
   "source": [
    "h    = 3\n",
    "tree = get_belief_tree(h, M)"
   ]
  },
  {
   "cell_type": "code",
   "execution_count": 11,
   "id": "45253fd6",
   "metadata": {},
   "outputs": [],
   "source": [
    "root = [1.5, 1]\n",
    "val_tree, history = replay(tree, root)"
   ]
  },
  {
   "cell_type": "code",
   "execution_count": 12,
   "id": "fdd7075f",
   "metadata": {},
   "outputs": [
    {
     "name": "stdout",
     "output_type": "stream",
     "text": [
      "[array([[3, 1],\n",
      "       [1, 1]]), 1, (0, 0, 2)]\n",
      "[array([[2, 1],\n",
      "       [2, 1]]), 1, (0, 1, 6)]\n",
      "[array([[2, 1],\n",
      "       [2, 1]]), 1, (1, 1, 7)]\n",
      "[array([[2, 1],\n",
      "       [1, 2]]), 1, (0, 1, 4)]\n",
      "[array([[2, 2],\n",
      "       [1, 1]]), 1, (0, 0, 0)]\n",
      "[array([[3, 1],\n",
      "       [1, 1]]), 1, (1, 0, 3)]\n",
      "[array([[2, 2],\n",
      "       [1, 1]]), 1, (1, 0, 1)]\n",
      "[array([[2, 1],\n",
      "       [1, 2]]), 1, (1, 1, 5)]\n",
      "[array([[2, 1],\n",
      "       [1, 1]]), 0, (0, 0)]\n",
      "[array([[2, 1],\n",
      "       [1, 1]]), 0, (1, 1)]\n"
     ]
    }
   ],
   "source": [
    "for his in history:\n",
    "    print(his)"
   ]
  },
  {
   "cell_type": "code",
   "execution_count": 13,
   "id": "6379b4ce",
   "metadata": {},
   "outputs": [],
   "source": [
    "import os\n",
    "from tex_tree import generate_tex_tree\n",
    "\n",
    "save_path = os.path.join('/home/georgy/Documents/Dayan_lab/PhD/bandits/Data/Tree/tex_tree.tex')\n",
    "generate_tex_tree(M, save_path)"
   ]
  }
 ],
 "metadata": {
  "kernelspec": {
   "display_name": "Python 3",
   "language": "python",
   "name": "python3"
  },
  "language_info": {
   "codemirror_mode": {
    "name": "ipython",
    "version": 3
   },
   "file_extension": ".py",
   "mimetype": "text/x-python",
   "name": "python",
   "nbconvert_exporter": "python",
   "pygments_lexer": "ipython3",
   "version": "3.9.7"
  },
  "varInspector": {
   "cols": {
    "lenName": 16,
    "lenType": 16,
    "lenVar": 40
   },
   "kernels_config": {
    "python": {
     "delete_cmd_postfix": "",
     "delete_cmd_prefix": "del ",
     "library": "var_list.py",
     "varRefreshCmd": "print(var_dic_list())"
    },
    "r": {
     "delete_cmd_postfix": ") ",
     "delete_cmd_prefix": "rm(",
     "library": "var_list.r",
     "varRefreshCmd": "cat(var_dic_list()) "
    }
   },
   "position": {
    "height": "560.85px",
    "left": "1066px",
    "right": "20px",
    "top": "120px",
    "width": "354px"
   },
   "types_to_exclude": [
    "module",
    "function",
    "builtin_function_or_method",
    "instance",
    "_Feature"
   ],
   "window_display": false
  }
 },
 "nbformat": 4,
 "nbformat_minor": 5
}
