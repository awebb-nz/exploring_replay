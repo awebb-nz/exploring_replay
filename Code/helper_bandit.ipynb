{
 "cells": [
  {
   "cell_type": "code",
   "execution_count": 75,
   "id": "b8a3ed96",
   "metadata": {
    "ExecuteTime": {
     "end_time": "2021-11-12T13:30:42.691103Z",
     "start_time": "2021-11-12T13:30:39.907259Z"
    }
   },
   "outputs": [],
   "source": [
    "import os\n",
    "import numpy as np\n",
    "from scipy.stats import beta\n",
    "import matplotlib.pyplot as plt"
   ]
  },
  {
   "cell_type": "markdown",
   "id": "602702df",
   "metadata": {},
   "source": [
    "### Initialise the environment"
   ]
  },
  {
   "cell_type": "code",
   "execution_count": 151,
   "id": "21499053",
   "metadata": {},
   "outputs": [],
   "source": [
    "p1 = 0.75 # reward proba for arm 1\n",
    "p2 = 0.2 # reward proba for arm 2\n",
    "\n",
    "arms = [p1, p2]"
   ]
  },
  {
   "cell_type": "markdown",
   "id": "4f22df01",
   "metadata": {},
   "source": [
    "### Initialise the agent"
   ]
  },
  {
   "cell_type": "code",
   "execution_count": 152,
   "id": "cfbacf49",
   "metadata": {},
   "outputs": [],
   "source": [
    "def policy(q_values, temp=None):\n",
    "\n",
    "    if temp:\n",
    "        t = temp\n",
    "    else:\n",
    "        t = 1\n",
    "    return np.exp(q_values*t)/np.sum(np.exp(q_values*t))\n",
    "\n",
    "def belief_update(M_curr, arm, rew):\n",
    "\n",
    "    M_next = M_curr.copy()\n",
    "    if rew == 1:\n",
    "        M_next[arm, 0] += 1\n",
    "    else:\n",
    "        M_next[arm, 1] += 1\n",
    "    return M_next\n",
    "\n",
    "gamma   = 0.9\n",
    "gittins = np.genfromtxt('../gittins100_gamma09.csv', delimiter=',')\n",
    "gittins = gittins[1:, 1:] # remove (0, .) and (., 0) priors"
   ]
  },
  {
   "cell_type": "markdown",
   "id": "d8441bc7",
   "metadata": {},
   "source": [
    "### Run the model-free agent"
   ]
  },
  {
   "cell_type": "code",
   "execution_count": 153,
   "id": "658fb1ff",
   "metadata": {},
   "outputs": [],
   "source": [
    "np.random.seed(1234)\n",
    "\n",
    "# initial belief state\n",
    "M = np.array([\n",
    "    [1, 1],\n",
    "    [1, 1]\n",
    "], dtype=int)\n",
    "\n",
    "num_episodes = 80\n",
    "for ep in range(num_episodes):\n",
    "    Q  = np.array([gittins[M[0, 0], M[0, 1]], gittins[M[1, 0], M[1, 1]]])\n",
    "    # a = np.argmax(Q)\n",
    "    ps = policy(Q)\n",
    "    a  = np.random.choice([0, 1], p=ps)\n",
    "    r  = np.random.choice([0, 1], p=(1-arms[a], arms[a]))\n",
    "    M  = belief_update(M, a, r)"
   ]
  },
  {
   "cell_type": "markdown",
   "id": "7b9d1f84",
   "metadata": {},
   "source": [
    "### Plot the resulting belief"
   ]
  },
  {
   "cell_type": "code",
   "execution_count": 154,
   "id": "a36bd5ea",
   "metadata": {},
   "outputs": [
    {
     "data": {
      "text/plain": [
       "Text(0.5, 1.0, '$\\\\mathbb{E}[p\\\\mid b]$')"
      ]
     },
     "execution_count": 154,
     "metadata": {},
     "output_type": "execute_result"
    },
    {
     "data": {
      "image/png": "[encoded data removed]",
      "text/plain": [
       "<Figure size 1008x288 with 3 Axes>"
      ]
     },
     "metadata": {
      "needs_background": "light"
     },
     "output_type": "display_data"
    }
   ],
   "source": [
    "plt.figure(figsize=(14, 4))\n",
    "\n",
    "x = np.linspace(0, 1, 100)\n",
    "plt.subplot(1, 3, 1)\n",
    "a, b = M[0, 0], M[0, 1]\n",
    "rv = beta(a, b)\n",
    "plt.plot(x, rv.pdf(x), 'k-', lw=2)\n",
    "plt.xlim(0,1)\n",
    "plt.title('arm 1, p=%.1f'%arms[0])\n",
    "plt.subplot(1, 3, 2)\n",
    "a, b = M[1, 0], M[1, 1]\n",
    "rv = beta(a, b)\n",
    "plt.plot(x, rv.pdf(x), 'k-', lw=2)\n",
    "plt.xlim(0,1)\n",
    "plt.title('arm 2, p=%.1f'%arms[1])\n",
    "plt.subplot(1, 3, 3)\n",
    "plt.bar([1, 2], [M[0, 0]/np.sum(M[0, :]), M[1, 0]/np.sum(M[1, :])])\n",
    "plt.xticks([1, 2], [1, 2])\n",
    "plt.ylim(0,1)\n",
    "plt.title(r'$\\mathbb{E}[p\\mid b]$')"
   ]
  },
  {
   "cell_type": "code",
   "execution_count": 155,
   "id": "8a040e46",
   "metadata": {},
   "outputs": [
    {
     "data": {
      "text/plain": [
       "array([[37, 14],\n",
       "       [ 8, 25]])"
      ]
     },
     "execution_count": 155,
     "metadata": {},
     "output_type": "execute_result"
    }
   ],
   "source": [
    "M"
   ]
  },
  {
   "cell_type": "markdown",
   "id": "c9210f86",
   "metadata": {},
   "source": [
    "### Construct belief tree"
   ]
  },
  {
   "cell_type": "code",
   "execution_count": 156,
   "id": "01c3ef5a",
   "metadata": {
    "ExecuteTime": {
     "end_time": "2021-11-12T13:30:48.351790Z",
     "start_time": "2021-11-12T13:30:48.336832Z"
    },
    "code_folding": []
   },
   "outputs": [],
   "source": [
    "def get_belief_tree(h, b):\n",
    "\n",
    "    # initialise the hyperstate tree\n",
    "    tree = {hi:{} for hi in range(h)}\n",
    "    \n",
    "    tree[0][(0)] = b\n",
    "\n",
    "    for hi in range(1, h):\n",
    "        c = 0\n",
    "        for k, v in tree[hi-1].items():\n",
    "            \n",
    "            if hi == 1:\n",
    "                prev_c = 0\n",
    "            else:\n",
    "                prev_c = k[-1]\n",
    "            \n",
    "            for a in range(2):\n",
    "                for r in [0, 1]:\n",
    "\n",
    "                    b1 = belief_update(v, a, r)\n",
    "                                            \n",
    "                    tree[hi][(a, prev_c, c)] = b1\n",
    "                    c += 1\n",
    "    return tree"
   ]
  },
  {
   "cell_type": "markdown",
   "id": "6f1c1f4a",
   "metadata": {},
   "source": [
    "### Replay in belief tree"
   ]
  },
  {
   "cell_type": "markdown",
   "id": "4bb0ec7d",
   "metadata": {},
   "source": [
    "We want to prioritise updates in this belief tree. The prioritisation scheme is the following:\n",
    "\n",
    "$$\n",
    "\\begin{align*}\n",
    "v(b')-v(b)=&\\sum_a\\big[ ( \\pi(a\\mid b')-\\pi(a\\mid b) )q(b', a)\\big]\\\\\n",
    "&+\\mathbb{E}_{\\pi(a\\mid b)}\\big[r(b',a) - r(b,a)\\big]\\\\ \n",
    "&+\\mathbb{E}_{\\pi(a\\mid b)}\\big[\\gamma \\sum_{b''}p(b''\\mid b', a)v(b'') - \\gamma \\sum_{b'}p(b'\\mid b, a)v(b') \\big]\n",
    "\\end{align*}\n",
    "$$\n",
    "\n",
    "where the policy $\\pi(a\\mid b)$ is determined by the Gittins index associated with belief $b$, $q(b', a)$ is the Gittins index, and $v(b')=\\mathbb{E}_{\\pi(a\\mid b')}\\big[q(b',a)\\big]$\n",
    "\n",
    "For the moment, we will only consider single-step updates from children to their parents"
   ]
  },
  {
   "cell_type": "code",
   "execution_count": 157,
   "id": "f2547e69",
   "metadata": {},
   "outputs": [],
   "source": [
    "def evb(b, b_prime):\n",
    "\n",
    "    q = np.array([gittins[b[0, 0], b[0, 1]], gittins[b[1, 0], b[1, 1]]])\n",
    "    q_prime = np.array([gittins[b_prime[0, 0], b_prime[0, 1]], gittins[b_prime[1, 0], b_prime[1, 1]]])\n",
    "\n",
    "    probs = policy(q)\n",
    "    probs_prime = policy(q_prime)\n",
    "\n",
    "    gain = np.dot(probs_prime - probs, q_prime)\n",
    "\n",
    "    tmp_rew = np.array([b[0, 0]/np.sum(b[0, :]), b[1, 0]/np.sum(b[1, :])])\n",
    "    tmp_rew_prime = np.array([b_prime[0, 0]/np.sum(b_prime[0, :]), b_prime[1, 0]/np.sum(b_prime[1, :])])\n",
    "\n",
    "    rew = np.dot(probs, (tmp_rew_prime - tmp_rew))\n",
    "\n",
    "    b_prime00 = belief_update(b, 0, 0)\n",
    "    b_prime01 = belief_update(b, 0, 1)\n",
    "    b_prime10 = belief_update(b, 1, 0)\n",
    "    b_prime11 = belief_update(b, 1, 1)\n",
    "\n",
    "    q_prime00 = np.array([gittins[b_prime00[0, 0], b_prime00[0, 1]], gittins[b_prime00[1, 0], b_prime00[1, 1]]])\n",
    "    q_prime01 = np.array([gittins[b_prime01[0, 0], b_prime01[0, 1]], gittins[b_prime01[1, 0], b_prime01[1, 1]]])\n",
    "    q_prime10 = np.array([gittins[b_prime10[0, 0], b_prime10[0, 1]], gittins[b_prime10[1, 0], b_prime10[1, 1]]])\n",
    "    q_prime11 = np.array([gittins[b_prime11[0, 0], b_prime11[0, 1]], gittins[b_prime11[1, 0], b_prime11[1, 1]]])\n",
    "\n",
    "    b_prime_prime00 = belief_update(b_prime, 0, 0)\n",
    "    b_prime_prime01 = belief_update(b_prime, 0, 1)\n",
    "    b_prime_prime10 = belief_update(b_prime, 1, 0)\n",
    "    b_prime_prime11 = belief_update(b_prime, 1, 1)\n",
    "\n",
    "    q_prime_prime00 = np.array([gittins[b_prime_prime00[0, 0], b_prime_prime00[0, 1]], gittins[b_prime_prime00[1, 0], b_prime_prime00[1, 1]]])\n",
    "    q_prime_prime01 = np.array([gittins[b_prime_prime01[0, 0], b_prime_prime01[0, 1]], gittins[b_prime_prime01[1, 0], b_prime_prime01[1, 1]]])\n",
    "    q_prime_prime10 = np.array([gittins[b_prime_prime10[0, 0], b_prime_prime10[0, 1]], gittins[b_prime_prime10[1, 0], b_prime_prime10[1, 1]]])\n",
    "    q_prime_prime11 = np.array([gittins[b_prime_prime11[0, 0], b_prime_prime11[0, 1]], gittins[b_prime_prime11[1, 0], b_prime_prime11[1, 1]]])\n",
    "\n",
    "    v_prime0 = (b[0, 0]/np.sum(b[0, :]))*np.dot(policy(q_prime00), q_prime00) + (b[0, 1]/np.sum(b[0, :]))*np.dot(policy(q_prime01), q_prime01)\n",
    "    v_prime1 = (b[1, 0]/np.sum(b[1, :]))*np.dot(policy(q_prime10), q_prime10) + (b[1, 1]/np.sum(b[1, :]))*np.dot(policy(q_prime11), q_prime11)\n",
    "    \n",
    "    v_prime_prime0 = (b_prime[0, 0]/np.sum(b_prime[0, :]))*np.dot(policy(q_prime_prime00), q_prime_prime00) + (b_prime[0, 1]/np.sum(b_prime[0, :]))*np.dot(policy(q_prime_prime01), q_prime_prime01)\n",
    "    v_prime_prime1 = (b_prime[1, 0]/np.sum(b_prime[1, :]))*np.dot(policy(q_prime_prime10), q_prime_prime10) + (b_prime[1, 1]/np.sum(b_prime[1, :]))*np.dot(policy(q_prime_prime11), q_prime_prime11)\n",
    "\n",
    "    nxt = gamma*(np.dot(probs, np.array([v_prime0, v_prime1])) + np.dot(probs, np.array([v_prime_prime0, v_prime_prime1]))) \n",
    "\n",
    "    return gain + rew + nxt"
   ]
  },
  {
   "cell_type": "code",
   "execution_count": 159,
   "id": "6a5e83d2",
   "metadata": {},
   "outputs": [],
   "source": [
    "h    = 6\n",
    "tree = get_belief_tree(h, M)"
   ]
  },
  {
   "cell_type": "code",
   "execution_count": 160,
   "id": "4527ab09",
   "metadata": {},
   "outputs": [],
   "source": [
    "evb_tree = {hi:{} for hi in range(h)}\n",
    "for hi in reversed(range(h-1)):\n",
    "    for k, v in tree[hi].items():\n",
    "        if hi == 0:\n",
    "            c = 0\n",
    "        else:\n",
    "            c = k[-1]\n",
    "        for k1, v1 in tree[hi+1].items():\n",
    "            a = k1[0]\n",
    "            prev_c = k1[-2]\n",
    "            if prev_c == c:\n",
    "                evb_tree[hi][(a, k1[-1])] = [evb(v, v1), v, v1]"
   ]
  },
  {
   "cell_type": "markdown",
   "id": "a5dc1be0",
   "metadata": {},
   "source": [
    "### Check updates with the highest evb"
   ]
  },
  {
   "cell_type": "code",
   "execution_count": 161,
   "id": "bffa7796",
   "metadata": {},
   "outputs": [],
   "source": [
    "updates = {hi:[] for hi in range(h)}\n",
    "for hi in reversed(range(h-1)):\n",
    "    max_val = 0\n",
    "    for k, v in evb_tree[hi].items():\n",
    "        if v[0] > max_val:\n",
    "            updates[hi] = v\n",
    "            max_val     = v[0]\n"
   ]
  },
  {
   "cell_type": "code",
   "execution_count": 162,
   "id": "d28aa0d1",
   "metadata": {},
   "outputs": [
    {
     "data": {
      "text/plain": [
       "{0: [9.875454198828213e-01,\n",
       "  array([[37, 14],\n",
       "         [ 8, 25]]),\n",
       "  array([[37, 14],\n",
       "         [ 9, 25]])],\n",
       " 1: [0.9981783992225802,\n",
       "  array([[37, 14],\n",
       "         [ 9, 25]]),\n",
       "  array([[37, 14],\n",
       "         [10, 25]])],\n",
       " 2: [1.0084886648281552,\n",
       "  array([[37, 14],\n",
       "         [10, 25]]),\n",
       "  array([[37, 14],\n",
       "         [11, 25]])],\n",
       " 3: [1.0184787461349243,\n",
       "  array([[37, 14],\n",
       "         [11, 25]]),\n",
       "  array([[37, 14],\n",
       "         [12, 25]])],\n",
       " 4: [1.0281780765714963,\n",
       "  array([[37, 14],\n",
       "         [12, 25]]),\n",
       "  array([[37, 14],\n",
       "         [13, 25]])],\n",
       " 5: []}"
      ]
     },
     "execution_count": 162,
     "metadata": {},
     "output_type": "execute_result"
    }
   ],
   "source": [
    "updates"
   ]
  },
  {
   "cell_type": "code",
   "execution_count": null,
   "id": "91c9784c",
   "metadata": {},
   "outputs": [],
   "source": []
  }
 ],
 "metadata": {
  "kernelspec": {
   "display_name": "Python 3",
   "language": "python",
   "name": "python3"
  },
  "language_info": {
   "codemirror_mode": {
    "name": "ipython",
    "version": 3
   },
   "file_extension": ".py",
   "mimetype": "text/x-python",
   "name": "python",
   "nbconvert_exporter": "python",
   "pygments_lexer": "ipython3",
   "version": "3.9.7"
  },
  "varInspector": {
   "cols": {
    "lenName": 16,
    "lenType": 16,
    "lenVar": 40
   },
   "kernels_config": {
    "python": {
     "delete_cmd_postfix": "",
     "delete_cmd_prefix": "del ",
     "library": "var_list.py",
     "varRefreshCmd": "print(var_dic_list())"
    },
    "r": {
     "delete_cmd_postfix": ") ",
     "delete_cmd_prefix": "rm(",
     "library": "var_list.r",
     "varRefreshCmd": "cat(var_dic_list()) "
    }
   },
   "position": {
    "height": "560.85px",
    "left": "1066px",
    "right": "20px",
    "top": "120px",
    "width": "354px"
   },
   "types_to_exclude": [
    "module",
    "function",
    "builtin_function_or_method",
    "instance",
    "_Feature"
   ],
   "window_display": false
  }
 },
 "nbformat": 4,
 "nbformat_minor": 5
}
