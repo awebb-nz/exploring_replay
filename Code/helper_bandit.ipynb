{
 "cells": [
  {
   "cell_type": "code",
   "execution_count": 1,
   "id": "b8a3ed96",
   "metadata": {
    "ExecuteTime": {
     "end_time": "2021-11-12T13:30:42.691103Z",
     "start_time": "2021-11-12T13:30:39.907259Z"
    }
   },
   "outputs": [],
   "source": [
    "import os\n",
    "import numpy as np\n",
    "from scipy.stats import beta\n",
    "import matplotlib.pyplot as plt"
   ]
  },
  {
   "cell_type": "markdown",
   "id": "602702df",
   "metadata": {},
   "source": [
    "### Initialise the environment"
   ]
  },
  {
   "cell_type": "code",
   "execution_count": 2,
   "id": "21499053",
   "metadata": {},
   "outputs": [],
   "source": [
    "p1 = 0.7 # reward proba for arm 1\n",
    "p2 = 0.5 # reward proba for arm 2\n",
    "\n",
    "arms = [p1, p2]"
   ]
  },
  {
   "cell_type": "markdown",
   "id": "4f22df01",
   "metadata": {},
   "source": [
    "### Initialise the agent"
   ]
  },
  {
   "cell_type": "code",
   "execution_count": 3,
   "id": "cfbacf49",
   "metadata": {},
   "outputs": [],
   "source": [
    "def policy(q_values, temp=None):\n",
    "\n",
    "    if temp:\n",
    "        t = temp\n",
    "    else:\n",
    "        t = 1\n",
    "    return np.exp(q_values*t)/np.sum(np.exp(q_values*t))\n",
    "\n",
    "def belief_update(M_curr, arm, rew):\n",
    "\n",
    "    M_next = M_curr.copy()\n",
    "    if rew == 1:\n",
    "        M_next[arm, 0] += 1\n",
    "    else:\n",
    "        M_next[arm, 1] += 1\n",
    "    return M_next"
   ]
  },
  {
   "cell_type": "code",
   "execution_count": 22,
   "id": "aab4f6f1",
   "metadata": {},
   "outputs": [],
   "source": [
    "# initial belief state\n",
    "M = np.array([\n",
    "    [1, 1],\n",
    "    [1, 1]\n",
    "])\n",
    "\n",
    "# initial Q values\n",
    "Q = np.array([0.1, 0.1])\n",
    "\n",
    "# parameters\n",
    "alpha = 0.1\n",
    "gamma = 0.9\n",
    "temp  = 6"
   ]
  },
  {
   "cell_type": "markdown",
   "id": "d8441bc7",
   "metadata": {},
   "source": [
    "### Run the model-free agent"
   ]
  },
  {
   "cell_type": "code",
   "execution_count": 23,
   "id": "658fb1ff",
   "metadata": {},
   "outputs": [],
   "source": [
    "np.random.seed(1234)\n",
    "\n",
    "num_episodes = 10\n",
    "for ep in range(num_episodes):\n",
    "    probas = policy(Q, temp=temp)\n",
    "    a      = np.random.choice([0, 1], p=probas)\n",
    "    r      = np.random.choice([0, 1], p=(1-arms[a], arms[a]))\n",
    "    Q[a]  += alpha*(r - Q[a])\n",
    "    M      = belief_update(M, a, r)"
   ]
  },
  {
   "cell_type": "markdown",
   "id": "7b9d1f84",
   "metadata": {},
   "source": [
    "### Plot the resulting belief"
   ]
  },
  {
   "cell_type": "code",
   "execution_count": 25,
   "id": "a36bd5ea",
   "metadata": {},
   "outputs": [
    {
     "data": {
      "text/plain": [
       "Text(0.5, 1.0, 'MF Q values')"
      ]
     },
     "execution_count": 25,
     "metadata": {},
     "output_type": "execute_result"
    },
    {
     "data": {
      "image/png": "[encoded data removed]",
      "text/plain": [
       "<Figure size 1008x288 with 3 Axes>"
      ]
     },
     "metadata": {
      "needs_background": "light"
     },
     "output_type": "display_data"
    }
   ],
   "source": [
    "plt.figure(figsize=(14, 4))\n",
    "\n",
    "x = np.linspace(0, 1, 100)\n",
    "plt.subplot(1, 3, 1)\n",
    "a, b = M[0, 0], M[0, 1]\n",
    "rv = beta(a, b)\n",
    "plt.plot(x, rv.pdf(x), 'k-', lw=2)\n",
    "plt.xlim(0,1)\n",
    "plt.title('arm 1, p=%.1f'%arms[0])\n",
    "plt.subplot(1, 3, 2)\n",
    "a, b = M[1, 0], M[1, 1]\n",
    "rv = beta(a, b)\n",
    "plt.plot(x, rv.pdf(x), 'k-', lw=2)\n",
    "plt.xlim(0,1)\n",
    "plt.title('arm 2, p=%.1f'%arms[1])\n",
    "plt.subplot(1, 3, 3)\n",
    "plt.bar([1, 2], Q)\n",
    "plt.xticks([1, 2], [1, 2])\n",
    "plt.ylim(0,1)\n",
    "plt.title('MF Q values')"
   ]
  },
  {
   "cell_type": "markdown",
   "id": "c9210f86",
   "metadata": {},
   "source": [
    "### Belief MDP value iteration"
   ]
  },
  {
   "cell_type": "code",
   "execution_count": null,
   "id": "01c3ef5a",
   "metadata": {
    "ExecuteTime": {
     "end_time": "2021-11-12T13:30:48.351790Z",
     "start_time": "2021-11-12T13:30:48.336832Z"
    },
    "code_folding": []
   },
   "outputs": [],
   "source": [
    "def get_belief_tree(h, b):\n",
    "\n",
    "    # initialise the hyperstate tree\n",
    "    tree = {hi:{} for hi in range(h)}\n",
    "    \n",
    "    tree[0][(0, 0)] = b\n",
    "    tree[0][(1, 0)] = b\n",
    "\n",
    "    for hi in range(1, h):\n",
    "        c  = 0\n",
    "        for k, v in tree[hi-1].items():\n",
    "            \n",
    "            prev_a = k[0]\n",
    "            prev_c = k[-1]\n",
    "            \n",
    "            for r in [0, 1]:\n",
    "                b1 = belief_update(v, prev_a, r)\n",
    "                \n",
    "                for a1 in range(2):\n",
    "                    \n",
    "                    tree[hi][(a1, prev_c, c)] = b1\n",
    "                    c += 1\n",
    "    return tree\n",
    "\n",
    "def belief_vi(current_s, current_a, h, current_b):\n",
    "    \n",
    "    belief_tree    = get_belief_tree(current_s, current_a, h, current_b)\n",
    "    \n",
    "    # Compute the values of all information states \n",
    "    # reached at horizon h\n",
    "    \n",
    "    hi = (h-1)\n",
    "    \n",
    "    this_tree      = belief_tree[hi]\n",
    "    q_values_tree  = {hi:{} for hi in range(h)}\n",
    "    entropies_tree = {hi:{} for hi in range(h)}\n",
    "    probas_tree    = {hi:{} for hi in range(h)}\n",
    "    \n",
    "    for k, v in this_tree.items():\n",
    "        \n",
    "        M = v.copy()\n",
    "        b = M/np.sum(M, axis=1)[:, None]\n",
    "        \n",
    "        s = k[0]\n",
    "        a = k[1]\n",
    "        \n",
    "        c = k[-1]\n",
    "        \n",
    "        q_max = np.nanmax(Q_MF, axis=1)\n",
    "        \n",
    "        if s == r_state:\n",
    "            q_val = 0\n",
    "        else:\n",
    "            r     = world.ravel()\n",
    "            q_val = np.dot(b[s*num_actions+a, :], r + gamma*q_max)\n",
    "        \n",
    "        ent = np.zeros(M.shape[0])\n",
    "        for i in range(len(ent)):\n",
    "            ent[i] = dirichlet.entropy(M[i, :])\n",
    "        \n",
    "        q_values_tree[hi][k]  = q_val\n",
    "        entropies_tree[hi][k] = ent\n",
    "        probas_tree[hi][k]    = b\n",
    "                \n",
    "    for hi in reversed(range(0, h-1)):\n",
    "        \n",
    "        this_tree          = belief_tree[hi]\n",
    "        new_entropies_tree = {}\n",
    "        new_q_values_tree  = {}\n",
    "        new_probas_tree    = {}\n",
    "        \n",
    "        for k, v in this_tree.items():\n",
    "            \n",
    "            M  = v.copy()\n",
    "            b  = M/np.sum(M, axis=1)[:, None]\n",
    "            \n",
    "            s  = k[0]\n",
    "            a  = k[1]\n",
    "            \n",
    "            c  = k[-1]\n",
    "            \n",
    "            tmp      = {}\n",
    "            tmp_ent  = {}\n",
    "            tmp_prob = {}\n",
    "            \n",
    "            for kv, vv in q_values_tree[hi+1].items():\n",
    "                if kv[-2] == c:\n",
    "                    tmp[kv]      = vv\n",
    "                    tmp_ent[kv]  = entropies_tree[hi+1][kv]\n",
    "                    tmp_prob[kv] = probas_tree[hi+1][kv]\n",
    "                    \n",
    "            if tmp == {}:\n",
    "\n",
    "                q_max = np.nanmax(Q_MF, axis=1)\n",
    "                ent   = np.zeros(M.shape[0])\n",
    "                prob  = b\n",
    "                \n",
    "                for i in range(len(ent)):\n",
    "                    ent[i] = dirichlet.entropy(M[i, :])\n",
    "\n",
    "                # Q_MB_tmp = value_iteration(Q_MF, M, world, r_state, gamma)\n",
    "                # q_val    = Q_MB_tmp[s, a]\n",
    "                \n",
    "                if s == r_state:\n",
    "                    q_val = 0\n",
    "                else:\n",
    "                    r     = world.ravel()\n",
    "                    q_val = np.dot(b[s*num_actions+a, :], r + gamma*q_max)\n",
    "\n",
    "            else:\n",
    "                q_val = 0\n",
    "                ent   = np.zeros(M.shape[0])\n",
    "                prob  = np.zeros((num_states*num_actions, num_states))\n",
    "                keys  = list(tmp.keys())\n",
    "                \n",
    "                for key_idx in range(0, len(keys), num_actions):\n",
    "                    qs = []\n",
    "                    es = []\n",
    "                    ps = []\n",
    "                    s1 = int(keys[key_idx][0])\n",
    "                    \n",
    "                    for t in range(num_actions):\n",
    "                        qs += [tmp[keys[key_idx+t]]]\n",
    "                        es += [tmp_ent[keys[key_idx+t]]]\n",
    "                        ps += [tmp_prob[keys[key_idx+t]]]\n",
    "                    \n",
    "                    idx    = np.argmax(qs)\n",
    "                    q_val += b[s*num_actions+a, s1]*(world.ravel()[s1] + gamma*qs[idx])\n",
    "                    ent   += b[s*num_actions+a, s1]*es[idx]\n",
    "                    prob  += b[s*num_actions+a, s1]*ps[idx]\n",
    "                    \n",
    "            new_q_values_tree[k]  = q_val\n",
    "            new_entropies_tree[k] = ent\n",
    "            new_probas_tree[k]    = prob\n",
    "            \n",
    "        q_values_tree[hi]  = new_q_values_tree\n",
    "        entropies_tree[hi] = new_entropies_tree\n",
    "        probas_tree[hi]    = new_probas_tree\n",
    "    \n",
    "    print('State %u action %u done'%(current_s, current_a))\n",
    "    return belief_tree, q_values_tree, probas_tree, entropies_tree"
   ]
  },
  {
   "cell_type": "code",
   "execution_count": null,
   "id": "6bbd6c20",
   "metadata": {},
   "outputs": [],
   "source": []
  }
 ],
 "metadata": {
  "kernelspec": {
   "display_name": "Python 3",
   "language": "python",
   "name": "python3"
  },
  "language_info": {
   "codemirror_mode": {
    "name": "ipython",
    "version": 3
   },
   "file_extension": ".py",
   "mimetype": "text/x-python",
   "name": "python",
   "nbconvert_exporter": "python",
   "pygments_lexer": "ipython3",
   "version": "3.9.7"
  },
  "varInspector": {
   "cols": {
    "lenName": 16,
    "lenType": 16,
    "lenVar": 40
   },
   "kernels_config": {
    "python": {
     "delete_cmd_postfix": "",
     "delete_cmd_prefix": "del ",
     "library": "var_list.py",
     "varRefreshCmd": "print(var_dic_list())"
    },
    "r": {
     "delete_cmd_postfix": ") ",
     "delete_cmd_prefix": "rm(",
     "library": "var_list.r",
     "varRefreshCmd": "cat(var_dic_list()) "
    }
   },
   "position": {
    "height": "560.85px",
    "left": "1066px",
    "right": "20px",
    "top": "120px",
    "width": "354px"
   },
   "types_to_exclude": [
    "module",
    "function",
    "builtin_function_or_method",
    "instance",
    "_Feature"
   ],
   "window_display": false
  }
 },
 "nbformat": 4,
 "nbformat_minor": 5
}
