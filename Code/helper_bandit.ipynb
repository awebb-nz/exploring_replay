{
 "cells": [
  {
   "cell_type": "code",
   "execution_count": 48,
   "id": "b8a3ed96",
   "metadata": {
    "ExecuteTime": {
     "end_time": "2021-11-12T13:30:42.691103Z",
     "start_time": "2021-11-12T13:30:39.907259Z"
    }
   },
   "outputs": [],
   "source": [
    "import numpy as np\n",
    "from scipy.stats import beta\n",
    "from scipy.special import kl_div\n",
    "import matplotlib.pyplot as plt\n",
    "from copy import deepcopy\n",
    "import os, shutil"
   ]
  },
  {
   "cell_type": "code",
   "execution_count": 2,
   "id": "cfbacf49",
   "metadata": {},
   "outputs": [],
   "source": [
    "def policy(q_values, temp=None, type='softmax'):\n",
    "\n",
    "    if temp:\n",
    "        t = temp\n",
    "    else:\n",
    "        t = 1\n",
    "    if type == 'softmax':\n",
    "        return np.exp(q_values*t)/np.sum(np.exp(q_values*t))\n",
    "    else:\n",
    "        return np.array(q_values >= q_values.max()).astype(int)\n",
    "\n",
    "def belief_update(M_curr, arm, rew):\n",
    "\n",
    "    M_next = M_curr.copy()\n",
    "    if rew == 1:\n",
    "        M_next[arm, 0] += 1\n",
    "    else:\n",
    "        M_next[arm, 1] += 1\n",
    "    return M_next"
   ]
  },
  {
   "cell_type": "markdown",
   "id": "c9210f86",
   "metadata": {},
   "source": [
    "### Construct belief tree"
   ]
  },
  {
   "cell_type": "code",
   "execution_count": 3,
   "id": "01c3ef5a",
   "metadata": {
    "ExecuteTime": {
     "end_time": "2021-11-12T13:30:48.351790Z",
     "start_time": "2021-11-12T13:30:48.336832Z"
    },
    "code_folding": []
   },
   "outputs": [],
   "source": [
    "def get_belief_tree(h, b):\n",
    "\n",
    "    # initialise the hyperstate tree\n",
    "    tree = {hi:{} for hi in range(h)}\n",
    "    \n",
    "    tree[0][(0, 0, 0)] = [1, b]\n",
    "\n",
    "    for hi in range(1, h):\n",
    "        c = 0\n",
    "        if hi == 1:\n",
    "            for a in range(2):\n",
    "                for r in [1, 0]:\n",
    "                    b1 = belief_update(b, a, r)\n",
    "                    tree[hi][(a, 0, c)] = [b[a, (1-r)]/np.sum(b[a, :]), b1]\n",
    "                    c += 1\n",
    "        else:\n",
    "            for k, v in tree[hi-1].items():\n",
    "                prev_c = k[-1]\n",
    "                this_b = v[1]\n",
    "                proba  = v[0]\n",
    "                for a in range(2):\n",
    "                    for r in [1, 0]:\n",
    "                        b1 = belief_update(this_b, a, r)\n",
    "                        tree[hi][(a, prev_c, c)] = [proba*this_b[a, (1-r)]/np.sum(this_b[a, :]), b1]\n",
    "                        c += 1\n",
    "    return tree"
   ]
  },
  {
   "cell_type": "markdown",
   "id": "6f1c1f4a",
   "metadata": {},
   "source": [
    "### Replay in belief tree"
   ]
  },
  {
   "cell_type": "markdown",
   "id": "4bb0ec7d",
   "metadata": {},
   "source": [
    "We want to prioritise updates in this belief tree. The prioritisation scheme is the following:\n",
    "\n",
    "$$\n",
    "\\begin{align*}\n",
    "    v(ba^*)-v(b) =& \\mathbb{E}_{b'\\sim p(b'\\mid b, a^*)}\\Big[\\sum_a \\big(\\pi(a\\mid b')-\\pi(a\\mid b)\\big)q(b',a) \\\\\n",
    "    +& \\mathbb{E}_{a\\sim \\pi(a\\mid b)}\\big[r(b',a) - r(b,a)\\big]  \\\\ \n",
    "    +& \\mathbb{E}_{a\\sim \\pi(a\\mid b)}\\big[\\gamma \\sum_{b''}p(b''\\mid b', a)v(b'') - \\gamma \\sum_{g'}p(g'\\mid b, a)v(g') \\big] \\Big] \n",
    "\\end{align*}\n",
    "$$\n",
    "\n",
    "where $ba^*$ is a belief that results from choosing action $a^*$ from belief $b$, the policy $\\pi(a\\mid b)$ is determined by the Gittins index associated with belief $b$, $q(b', a)$ is the Gittins index, and $v(b')=\\mathbb{E}_{\\pi(a\\mid b')}\\big[q(b',a)\\big]$\n",
    "\n",
    "For the moment, we will only consider single-step updates from children to their parents"
   ]
  },
  {
   "cell_type": "code",
   "execution_count": 5,
   "id": "f2547e69",
   "metadata": {},
   "outputs": [],
   "source": [
    "def replay(tree, xi=0.1, weighted=True, zero_all=False):\n",
    "    '''\n",
    "    calculate the evb for all tree nodes\n",
    "    -------\n",
    "    tree: belief tree\n",
    "    -------\n",
    "    '''\n",
    "\n",
    "    h         = len(tree.keys())           # planning horizon\n",
    "    evb_tree  = {hi:{} for hi in range(h)} # tree with evb values for each node\n",
    "    val_tree  = {hi:{} for hi in range(h)} # tree with value estimate for each node\n",
    "    backups   = []\n",
    "\n",
    "    # first assign leaf values as immediate reward at all horizons\n",
    "    for hi in range(h):\n",
    "        for k, b in tree[hi].items():\n",
    "            if zero_all:\n",
    "                if (hi == 0) or (hi == h-1):\n",
    "                    this_b   = b[1]\n",
    "                    q_values = np.array([this_b[0, 0]/np.sum(this_b[0, :]), this_b[1, 0]/np.sum(this_b[1, :])]) # initial q-values are just the immediate rewards\n",
    "                else:\n",
    "                    q_values = np.zeros(2)\n",
    "            else:\n",
    "                this_b   = b[1]\n",
    "                q_values = np.array([this_b[0, 0]/np.sum(this_b[0, :]), this_b[1, 0]/np.sum(this_b[1, :])])\n",
    "                \n",
    "            val_tree[hi][k] = np.dot(policy(q_values), q_values) # change temperature?\n",
    "\n",
    "    # then compute evb for every backup\n",
    "\n",
    "    while True: # for N steps\n",
    "        max_evb = 0\n",
    "\n",
    "        nval_tree = {hi:{} for hi in range(h)} # tree with new updated value estimates for each node\n",
    "        for hi in reversed(range(h-1)):\n",
    "            for k, b in tree[hi].items():\n",
    "                \n",
    "                v      = val_tree[hi][k] # current value of this belief state\n",
    "                this_b = b[1]\n",
    "                proba  = b[0]\n",
    "\n",
    "                c = k[-1]\n",
    "                for a in range(2):\n",
    "                    v_primes = []\n",
    "                    for k1, v_prime in val_tree[hi+1].items():\n",
    "                        prev_c = k1[-2]\n",
    "                        if prev_c == c and k1[0] == a:\n",
    "                            v_primes += [v_prime] # values of next belief states\n",
    "                    # print(v_primes)\n",
    "\n",
    "                    v_new = (this_b[a, 0]/np.sum(this_b[a, :]))*(1 + gamma*v_primes[0]) + (this_b[a, 1]/np.sum(this_b[a, :]))*(0 + gamma*v_primes[1])\n",
    "\n",
    "                    new_key = tuple(list(k) + [a])\n",
    "\n",
    "                    if weighted:\n",
    "                        evb = proba*(v_new - v)\n",
    "                    else:\n",
    "                        evb = v_new - v\n",
    "                        \n",
    "                    if evb > max_evb:\n",
    "                        max_evb = evb\n",
    "\n",
    "                    evb_tree[hi][new_key]  = proba*(v_new - v)\n",
    "                    nval_tree[hi][new_key] = v_new\n",
    "\n",
    "        if max_evb < xi:\n",
    "            break\n",
    "\n",
    "        max_val = 0\n",
    "        for hi in reversed(range(h-1)):\n",
    "            for k, v in evb_tree[hi].items():\n",
    "                if v > max_val:\n",
    "                    backup  = [hi, k]\n",
    "                    max_val = v\n",
    "        if max_val <= 0:\n",
    "            return val_tree, backups\n",
    "        \n",
    "        val_tree[backup[0]][backup[1][:-1]] = nval_tree[backup[0]][backup[1]]\n",
    "        backups += [[tree[backup[0]][backup[1][:-1]], backup[0], backup[1]]]\n",
    "\n",
    "    return val_tree, backups"
   ]
  },
  {
   "cell_type": "markdown",
   "id": "7b66ed72",
   "metadata": {},
   "source": [
    "### Initialise the agent"
   ]
  },
  {
   "cell_type": "code",
   "execution_count": 6,
   "id": "a5f6a0ea",
   "metadata": {},
   "outputs": [],
   "source": [
    "M = np.array([\n",
    "    [100, 1],\n",
    "    [1, 100]\n",
    "])\n",
    "\n",
    "gamma = 0.9"
   ]
  },
  {
   "cell_type": "code",
   "execution_count": 6,
   "id": "6379b4ce",
   "metadata": {},
   "outputs": [],
   "source": [
    "from tex_tree import generate_tex_tree, generate_big_tex_tree\n",
    "\n",
    "h    = 3\n",
    "tree = get_belief_tree(h, M)\n",
    "val_tree, replays = replay(tree, weighted=False)\n",
    "save_path = os.path.join('/home/georgy/Documents/Dayan_lab/PhD/bandits/Data/Tree/tex_tree_small.tex')\n",
    "generate_tex_tree(M, replays, save_path)"
   ]
  },
  {
   "cell_type": "code",
   "execution_count": 34,
   "id": "99f56304",
   "metadata": {},
   "outputs": [],
   "source": [
    "M = np.array([\n",
    "    [10, 5],\n",
    "    [3, 1]\n",
    "])\n",
    "\n",
    "gamma = 0.9"
   ]
  },
  {
   "cell_type": "code",
   "execution_count": 35,
   "id": "7143eebc",
   "metadata": {},
   "outputs": [],
   "source": [
    "from tex_tree import generate_tex_tree, generate_big_tex_tree\n",
    "\n",
    "h    = 4\n",
    "tree = get_belief_tree(h, M)\n",
    "val_tree, replays = replay(tree, xi=0.3, weighted=True, zero_all=True)\n",
    "\n",
    "save_folder = '/home/georgy/Documents/Dayan_lab/PhD/bandits/Data/Tree/seq/'\n",
    "if os.path.exists(save_folder):\n",
    "    shutil.rmtree(save_folder)\n",
    "    os.mkdir(save_folder)\n",
    "\n",
    "for idx, rep in enumerate(replays):\n",
    "    these_replays = replays[:idx+1]\n",
    "    save_path = os.path.join(save_folder, 'tex_tree_big_%u.tex'%idx)\n",
    "    generate_big_tex_tree(h, these_replays, save_path)"
   ]
  },
  {
   "cell_type": "markdown",
   "id": "220c62fc",
   "metadata": {},
   "source": [
    "### Distribution updates asymmetry "
   ]
  },
  {
   "cell_type": "code",
   "execution_count": 50,
   "id": "6c2702e1",
   "metadata": {},
   "outputs": [],
   "source": [
    "x = np.linspace(0.001, 1, 100)\n",
    "\n",
    "a1b, b1b = np.array([1, 1])\n",
    "rv1b = beta(a1b, b1b)  \n",
    "\n",
    "a1a, b1a = np.array([2, 1])\n",
    "rv1a = beta(a1a, b1a)\n",
    "\n",
    "a1aa, b1aa = np.array([3, 1])\n",
    "rv1aa = beta(a1aa, b1aa)"
   ]
  },
  {
   "cell_type": "code",
   "execution_count": 54,
   "id": "0d9a9247",
   "metadata": {},
   "outputs": [
    {
     "name": "stdout",
     "output_type": "stream",
     "text": [
      "33.069335223152315\n",
      "9.461856116669543\n"
     ]
    },
    {
     "data": {
      "image/png": "[encoded data removed]",
      "text/plain": [
       "<Figure size 720x216 with 3 Axes>"
      ]
     },
     "metadata": {
      "needs_background": "light"
     },
     "output_type": "display_data"
    }
   ],
   "source": [
    "plt.figure(figsize=(10, 3))\n",
    "plt.subplot(131)\n",
    "plt.plot(x, rv1b.pdf(x))\n",
    "plt.title(r'$\\alpha=1, \\beta=1$')\n",
    "\n",
    "plt.subplot(132)\n",
    "plt.plot(x, rv1a.pdf(x))\n",
    "plt.title(r'$\\alpha=2, \\beta=1$')\n",
    "\n",
    "print(np.sum(kl_div(rv1b.pdf(x), rv1a.pdf(x))))\n",
    "\n",
    "plt.subplot(133)\n",
    "plt.plot(x, rv1aa.pdf(x))\n",
    "plt.title(r'$\\alpha=3, \\beta=1$')\n",
    "\n",
    "print(np.sum(kl_div(rv1a.pdf(x), rv1aa.pdf(x))))\n",
    "\n",
    "plt.tight_layout()\n",
    "\n",
    "plt.savefig('/home/georgy/Documents/Dayan_lab/PhD/bandits/Data/betas.png')"
   ]
  },
  {
   "cell_type": "code",
   "execution_count": null,
   "id": "8866fb92",
   "metadata": {},
   "outputs": [],
   "source": []
  }
 ],
 "metadata": {
  "kernelspec": {
   "display_name": "Python 3",
   "language": "python",
   "name": "python3"
  },
  "language_info": {
   "codemirror_mode": {
    "name": "ipython",
    "version": 3
   },
   "file_extension": ".py",
   "mimetype": "text/x-python",
   "name": "python",
   "nbconvert_exporter": "python",
   "pygments_lexer": "ipython3",
   "version": "3.9.7"
  },
  "varInspector": {
   "cols": {
    "lenName": 16,
    "lenType": 16,
    "lenVar": 40
   },
   "kernels_config": {
    "python": {
     "delete_cmd_postfix": "",
     "delete_cmd_prefix": "del ",
     "library": "var_list.py",
     "varRefreshCmd": "print(var_dic_list())"
    },
    "r": {
     "delete_cmd_postfix": ") ",
     "delete_cmd_prefix": "rm(",
     "library": "var_list.r",
     "varRefreshCmd": "cat(var_dic_list()) "
    }
   },
   "position": {
    "height": "560.85px",
    "left": "1066px",
    "right": "20px",
    "top": "120px",
    "width": "354px"
   },
   "types_to_exclude": [
    "module",
    "function",
    "builtin_function_or_method",
    "instance",
    "_Feature"
   ],
   "window_display": false
  }
 },
 "nbformat": 4,
 "nbformat_minor": 5
}
