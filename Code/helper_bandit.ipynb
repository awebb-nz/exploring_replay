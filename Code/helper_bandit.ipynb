{
 "cells": [
  {
   "cell_type": "code",
   "execution_count": 43,
   "id": "b8a3ed96",
   "metadata": {
    "ExecuteTime": {
     "end_time": "2021-11-12T13:30:42.691103Z",
     "start_time": "2021-11-12T13:30:39.907259Z"
    }
   },
   "outputs": [],
   "source": [
    "import os\n",
    "import numpy as np\n",
    "from scipy.stats import beta\n",
    "import matplotlib.pyplot as plt"
   ]
  },
  {
   "cell_type": "markdown",
   "id": "602702df",
   "metadata": {},
   "source": [
    "### Initialise the environment"
   ]
  },
  {
   "cell_type": "code",
   "execution_count": 44,
   "id": "21499053",
   "metadata": {},
   "outputs": [],
   "source": [
    "p1 = 0.75 # true expected payoff for arm 1\n",
    "p2 = 0.50 # true expected payoff for arm 2\n",
    "\n",
    "arms = [p1, p2]"
   ]
  },
  {
   "cell_type": "markdown",
   "id": "4f22df01",
   "metadata": {},
   "source": [
    "### Initialise the agent"
   ]
  },
  {
   "cell_type": "code",
   "execution_count": 45,
   "id": "cfbacf49",
   "metadata": {},
   "outputs": [],
   "source": [
    "def policy(q_values, temp=None):\n",
    "\n",
    "    if temp:\n",
    "        t = temp\n",
    "    else:\n",
    "        t = 1\n",
    "    return np.exp(q_values*t)/np.sum(np.exp(q_values*t))\n",
    "\n",
    "def belief_update(M_curr, arm, rew):\n",
    "\n",
    "    M_next = M_curr.copy()\n",
    "    if rew == 1:\n",
    "        M_next[arm, 0] += 1\n",
    "    else:\n",
    "        M_next[arm, 1] += 1\n",
    "    return M_next\n",
    "\n",
    "gamma   = 0.9\n",
    "gittins = np.genfromtxt('../gittins200_gamma09.csv', delimiter=',') # load gittins indices\n",
    "gittins = gittins[1:, 1:] # remove (0, .) and (., 0) priors\n",
    "\n",
    "# initial belief state\n",
    "M = np.array([\n",
    "    [1, 1],\n",
    "    [1, 1]\n",
    "], dtype=int)\n",
    "\n",
    "temp = 8 # inverse temperature for softmax"
   ]
  },
  {
   "cell_type": "markdown",
   "id": "d8441bc7",
   "metadata": {},
   "source": [
    "### Run the model-free agent"
   ]
  },
  {
   "cell_type": "code",
   "execution_count": 46,
   "id": "658fb1ff",
   "metadata": {},
   "outputs": [],
   "source": [
    "np.random.seed(1234)\n",
    "\n",
    "num_episodes = 180\n",
    "for ep in range(num_episodes):\n",
    "    Q  = np.array([gittins[M[0, 0], M[0, 1]], gittins[M[1, 0], M[1, 1]]])\n",
    "    # a = np.argmax(Q)\n",
    "    ps = policy(Q, temp=temp)\n",
    "    a  = np.random.choice([0, 1], p=ps)\n",
    "    r  = np.random.choice([0, 1], p=(1-arms[a], arms[a]))\n",
    "    M  = belief_update(M, a, r)"
   ]
  },
  {
   "cell_type": "markdown",
   "id": "7b9d1f84",
   "metadata": {},
   "source": [
    "### Plot the resulting belief"
   ]
  },
  {
   "cell_type": "code",
   "execution_count": 47,
   "id": "a36bd5ea",
   "metadata": {},
   "outputs": [
    {
     "data": {
      "text/plain": [
       "Text(0.5, 1.0, '$\\\\mathbb{E}[p\\\\mid b]$')"
      ]
     },
     "execution_count": 47,
     "metadata": {},
     "output_type": "execute_result"
    },
    {
     "data": {
      "image/png": "[encoded data removed]",
      "text/plain": [
       "<Figure size 1008x288 with 3 Axes>"
      ]
     },
     "metadata": {
      "needs_background": "light"
     },
     "output_type": "display_data"
    }
   ],
   "source": [
    "plt.figure(figsize=(14, 4))\n",
    "\n",
    "x = np.linspace(0, 1, 100)\n",
    "plt.subplot(1, 3, 1)\n",
    "a, b = M[0, 0], M[0, 1]\n",
    "rv = beta(a, b)\n",
    "plt.plot(x, rv.pdf(x), 'k-', lw=2)\n",
    "plt.xlim(0,1)\n",
    "plt.title('arm 1, p=%.2f'%arms[0])\n",
    "plt.subplot(1, 3, 2)\n",
    "a, b = M[1, 0], M[1, 1]\n",
    "rv = beta(a, b)\n",
    "plt.plot(x, rv.pdf(x), 'k-', lw=2)\n",
    "plt.xlim(0,1)\n",
    "plt.title('arm 2, p=%.2f'%arms[1])\n",
    "plt.subplot(1, 3, 3)\n",
    "plt.bar([1, 2], [M[0, 0]/np.sum(M[0, :]), M[1, 0]/np.sum(M[1, :])])\n",
    "plt.xticks([1, 2], [1, 2])\n",
    "plt.ylim(0,1)\n",
    "plt.title(r'$\\mathbb{E}[p\\mid b]$')"
   ]
  },
  {
   "cell_type": "code",
   "execution_count": 48,
   "id": "8a040e46",
   "metadata": {},
   "outputs": [
    {
     "data": {
      "text/plain": [
       "array([[92, 30],\n",
       "       [40, 22]])"
      ]
     },
     "execution_count": 48,
     "metadata": {},
     "output_type": "execute_result"
    }
   ],
   "source": [
    "M"
   ]
  },
  {
   "cell_type": "markdown",
   "id": "c9210f86",
   "metadata": {},
   "source": [
    "### Construct belief tree"
   ]
  },
  {
   "cell_type": "code",
   "execution_count": 50,
   "id": "01c3ef5a",
   "metadata": {
    "ExecuteTime": {
     "end_time": "2021-11-12T13:30:48.351790Z",
     "start_time": "2021-11-12T13:30:48.336832Z"
    },
    "code_folding": []
   },
   "outputs": [],
   "source": [
    "def get_belief_tree(h, b):\n",
    "\n",
    "    # initialise the hyperstate tree\n",
    "    tree = {hi:{} for hi in range(h)}\n",
    "    \n",
    "    tree[0][(0, 0)] = b\n",
    "    tree[0][(1, 1)] = b\n",
    "\n",
    "    for hi in range(1, h):\n",
    "        c = 0\n",
    "        for k, v in tree[hi-1].items():\n",
    "            \n",
    "            prev_c = k[-1]\n",
    "            prev_a = k[0]\n",
    "            \n",
    "            for r in [0, 1]:\n",
    "                \n",
    "                b1 = belief_update(v, prev_a, r)\n",
    "                tree[hi][(prev_a, a, prev_c, c)] = b1\n",
    "                c += 1\n",
    "    return tree"
   ]
  },
  {
   "cell_type": "markdown",
   "id": "6f1c1f4a",
   "metadata": {},
   "source": [
    "### Replay in belief tree"
   ]
  },
  {
   "cell_type": "markdown",
   "id": "4bb0ec7d",
   "metadata": {},
   "source": [
    "We want to prioritise updates in this belief tree. The prioritisation scheme is the following:\n",
    "\n",
    "$$\n",
    "\\begin{align*}\n",
    "    v(ba^*)-v(b) =& \\mathbb{E}_{b'\\sim p(b'\\mid b, a^*)}\\Big[\\sum_a \\big(\\pi(a\\mid b')-\\pi(a\\mid b)\\big)q(b',a) \\\\\n",
    "    +& \\mathbb{E}_{a\\sim \\pi(a\\mid b)}\\big[r(b',a) - r(b,a)\\big]  \\\\ \n",
    "    +& \\mathbb{E}_{a\\sim \\pi(a\\mid b)}\\big[\\gamma \\sum_{b''}p(b''\\mid b', a)v(b'') - \\gamma \\sum_{g'}p(g'\\mid b, a)v(g') \\big] \\Big] \n",
    "\\end{align*}\n",
    "$$\n",
    "\n",
    "where $ba^*$ is a belief that results from choosing action $a^*$ from belief $b$, the policy $\\pi(a\\mid b)$ is determined by the Gittins index associated with belief $b$, $q(b', a)$ is the Gittins index, and $v(b')=\\mathbb{E}_{\\pi(a\\mid b')}\\big[q(b',a)\\big]$\n",
    "\n",
    "For the moment, we will only consider single-step updates from children to their parents"
   ]
  },
  {
   "cell_type": "code",
   "execution_count": 100,
   "id": "f2547e69",
   "metadata": {},
   "outputs": [],
   "source": [
    "def evb(b, a, b_primes: list):\n",
    "\n",
    "    gain_sum = 0\n",
    "    rew_sum  = 0\n",
    "    nxt_sum  = 0\n",
    "\n",
    "    q        = np.array([gittins[b[0, 0], b[0, 1]], gittins[b[1, 0], b[1, 1]]]) # q values before update\n",
    "    probs    = policy(q) # policy before update\n",
    "    tmp_rew  = np.array([b[0, 0]/np.sum(b[0, :]), b[1, 0]/np.sum(b[1, :])])\n",
    "\n",
    "    b_prime_arm0_rew0 = belief_update(b, 0, 0)\n",
    "    b_prime_arm0_rew1 = belief_update(b, 0, 1)\n",
    "    b_prime_arm1_rew0 = belief_update(b, 1, 0)\n",
    "    b_prime_arm1_rew1 = belief_update(b, 1, 1)\n",
    "\n",
    "    q_prime_arm0_rew0 = np.array([gittins[b_prime_arm0_rew0[0, 0], b_prime_arm0_rew0[0, 1]], gittins[b_prime_arm0_rew0[1, 0], b_prime_arm0_rew0[1, 1]]])\n",
    "    q_prime_arm0_rew1 = np.array([gittins[b_prime_arm0_rew1[0, 0], b_prime_arm0_rew1[0, 1]], gittins[b_prime_arm0_rew1[1, 0], b_prime_arm0_rew1[1, 1]]])\n",
    "    q_prime_arm1_rew0 = np.array([gittins[b_prime_arm1_rew0[0, 0], b_prime_arm1_rew0[0, 1]], gittins[b_prime_arm1_rew0[1, 0], b_prime_arm1_rew0[1, 1]]])\n",
    "    q_prime_arm1_rew1 = np.array([gittins[b_prime_arm1_rew1[0, 0], b_prime_arm1_rew1[0, 1]], gittins[b_prime_arm1_rew1[1, 0], b_prime_arm1_rew1[1, 1]]])\n",
    "\n",
    "    v_prime_arm0 = (b[0, 0]/np.sum(b[0, :]))*np.dot(policy(q_prime_arm0_rew1), q_prime_arm0_rew1) + (b[0, 1]/np.sum(b[0, :]))*np.dot(policy(q_prime_arm0_rew0), q_prime_arm0_rew0)\n",
    "    v_prime_arm1 = (b[1, 0]/np.sum(b[1, :]))*np.dot(policy(q_prime_arm1_rew1), q_prime_arm1_rew1) + (b[1, 1]/np.sum(b[1, :]))*np.dot(policy(q_prime_arm1_rew0), q_prime_arm1_rew0)\n",
    "\n",
    "    v_prime = probs[0]*v_prime_arm0 + probs[1]*v_prime_arm1\n",
    "\n",
    "    for b_prime in b_primes:\n",
    "        q_prime     = np.array([gittins[b_prime[0, 0], b_prime[0, 1]], gittins[b_prime[1, 0], b_prime[1, 1]]]) # q values after update\n",
    "        probs_prime = policy(q_prime) # policy after update\n",
    "\n",
    "        gain = np.dot(probs_prime - probs, q_prime) # gain\n",
    "\n",
    "        tmp_rew_prime = np.array([b_prime[0, 0]/np.sum(b_prime[0, :]), b_prime[1, 0]/np.sum(b_prime[1, :])])\n",
    "        rew = np.dot(probs, (tmp_rew_prime - tmp_rew))\n",
    "\n",
    "        b_prime_prime_arm0_rew0 = belief_update(b_prime, 0, 0)\n",
    "        b_prime_prime_arm0_rew1 = belief_update(b_prime, 0, 1)\n",
    "        b_prime_prime_arm1_rew0 = belief_update(b_prime, 1, 0)\n",
    "        b_prime_prime_arm1_rew1 = belief_update(b_prime, 1, 1)\n",
    "\n",
    "        q_prime_prime_arm0_rew0 = np.array([gittins[b_prime_prime_arm0_rew0[0, 0], b_prime_prime_arm0_rew0[0, 1]], gittins[b_prime_prime_arm0_rew0[1, 0], b_prime_prime_arm0_rew0[1, 1]]])\n",
    "        q_prime_prime_arm0_rew1 = np.array([gittins[b_prime_prime_arm0_rew1[0, 0], b_prime_prime_arm0_rew1[0, 1]], gittins[b_prime_prime_arm0_rew1[1, 0], b_prime_prime_arm0_rew1[1, 1]]])\n",
    "        q_prime_prime_arm1_rew0 = np.array([gittins[b_prime_prime_arm1_rew0[0, 0], b_prime_prime_arm1_rew0[0, 1]], gittins[b_prime_prime_arm1_rew0[1, 0], b_prime_prime_arm1_rew0[1, 1]]])\n",
    "        q_prime_prime_arm1_rew1 = np.array([gittins[b_prime_prime_arm1_rew1[0, 0], b_prime_prime_arm1_rew1[0, 1]], gittins[b_prime_prime_arm1_rew1[1, 0], b_prime_prime_arm1_rew1[1, 1]]])\n",
    "\n",
    "        v_prime_prime_arm0 = (b_prime[0, 0]/np.sum(b_prime[0, :]))*np.dot(policy(q_prime_prime_arm0_rew1), q_prime_prime_arm0_rew1) + (b_prime[0, 1]/np.sum(b_prime[0, :]))*np.dot(policy(q_prime_prime_arm0_rew0), q_prime_prime_arm0_rew0)\n",
    "        v_prime_prime_arm1 = (b_prime[1, 0]/np.sum(b_prime[1, :]))*np.dot(policy(q_prime_prime_arm1_rew1), q_prime_prime_arm1_rew1) + (b_prime[1, 1]/np.sum(b_prime[1, :]))*np.dot(policy(q_prime_prime_arm1_rew0), q_prime_prime_arm1_rew0)\n",
    "        \n",
    "        v_prime_prime = probs[0]*v_prime_prime_arm0 + probs[1]*v_prime_prime_arm1\n",
    "\n",
    "        nxt = gamma*(v_prime_prime-v_prime)\n",
    "\n",
    "        if b_prime[a, 0] > b[a, 0]:\n",
    "            gain_sum += (b_prime[a, 0]/np.sum(b_prime[a, :]))*gain\n",
    "            rew_sum  += (b_prime[a, 0]/np.sum(b_prime[a, :]))*rew\n",
    "            nxt_sum  += (b_prime[a, 0]/np.sum(b_prime[a, :]))*nxt\n",
    "        else:\n",
    "            gain_sum += (b_prime[a, 1]/np.sum(b_prime[a, :]))*gain\n",
    "            rew_sum  += (b_prime[a, 1]/np.sum(b_prime[a, :]))*rew\n",
    "            nxt_sum  += (b_prime[a, 1]/np.sum(b_prime[a, :]))*nxt\n",
    "\n",
    "    return gain_sum, rew_sum, nxt_sum"
   ]
  },
  {
   "cell_type": "code",
   "execution_count": 101,
   "id": "6a5e83d2",
   "metadata": {},
   "outputs": [],
   "source": [
    "h    = 6\n",
    "tree = get_belief_tree(h, M)"
   ]
  },
  {
   "cell_type": "code",
   "execution_count": 102,
   "id": "4527ab09",
   "metadata": {},
   "outputs": [],
   "source": [
    "evb_tree = {hi:{} for hi in range(h)}\n",
    "for hi in reversed(range(h-1)):\n",
    "    for k, v in tree[hi].items():\n",
    "\n",
    "        c = k[-1]\n",
    "        a = k[0]\n",
    "\n",
    "        v1s = []\n",
    "\n",
    "        for k1, v1 in tree[hi+1].items():\n",
    "            prev_a = k1[0]\n",
    "            prev_c = k1[-2]\n",
    "            if prev_c == c and prev_a == a:\n",
    "                v1s += [v1]\n",
    "        evb_tree[hi][(a, k1[-1])] = np.sum(evb(v, a, v1s))"
   ]
  },
  {
   "cell_type": "markdown",
   "id": "a5dc1be0",
   "metadata": {},
   "source": [
    "### Check updates with the highest evb"
   ]
  },
  {
   "cell_type": "code",
   "execution_count": 103,
   "id": "bffa7796",
   "metadata": {},
   "outputs": [],
   "source": [
    "updates = {hi:[] for hi in range(h-1)}\n",
    "for hi in reversed(range(h-1)):\n",
    "    max_val = 0\n",
    "    for k, v in evb_tree[hi].items():\n",
    "        if v > max_val:\n",
    "            updates[hi] = [k[0], v]\n",
    "            max_val     = v"
   ]
  },
  {
   "cell_type": "code",
   "execution_count": 104,
   "id": "94246678",
   "metadata": {},
   "outputs": [
    {
     "data": {
      "text/plain": [
       "{0: [], 1: [], 2: [], 3: [], 4: []}"
      ]
     },
     "execution_count": 104,
     "metadata": {},
     "output_type": "execute_result"
    }
   ],
   "source": [
    "updates"
   ]
  },
  {
   "cell_type": "markdown",
   "id": "b6a59ec7",
   "metadata": {},
   "source": [
    "### Analyse the evb curve"
   ]
  },
  {
   "cell_type": "code",
   "execution_count": 105,
   "id": "ad0475dd",
   "metadata": {},
   "outputs": [],
   "source": [
    "def plot_all(arm, alphab, betab, title):\n",
    "    x, y   = 30, 30\n",
    "    alphas = np.arange(1, x)\n",
    "    betas  = np.arange(1, y)\n",
    "    g   = np.zeros((x, y))\n",
    "    r    = np.zeros_like(g)\n",
    "    n    = np.zeros_like(g)\n",
    "\n",
    "    for x in alphas:\n",
    "        for y in betas:\n",
    "            m = np.array([\n",
    "                [x, y],\n",
    "                [alphab, betab]\n",
    "            ], dtype=int)\n",
    "            m_primes = [m.copy(), m.copy()]\n",
    "            m_primes[0][arm, 0] += 1\n",
    "            m_primes[1][arm, 1] += 1\n",
    "\n",
    "            g[x, y], r[x, y], n[x, y]  = evb(m, arm, m_primes)\n",
    "\n",
    "    plt.figure(figsize=(16, 4))\n",
    "    plt.subplot(1, 4, 1)\n",
    "    plt.pcolormesh(g[1:, 1:], cmap='Greys')\n",
    "    plt.colorbar()\n",
    "    plt.title('Policy gain', fontsize=16)\n",
    "    plt.ylabel(r'$\\alpha$', fontsize=14)\n",
    "    plt.xlabel(r'$\\beta$', fontsize=14)\n",
    "    plt.yticks(np.arange(0, x-2, 10), np.arange(1, x-1, 10))\n",
    "    plt.xticks(np.arange(0, x-2, 10), np.arange(1, x-1, 10))\n",
    "\n",
    "    plt.subplot(1, 4, 2)\n",
    "    plt.pcolormesh(r[1:, 1:], cmap='Greys')\n",
    "    plt.colorbar()\n",
    "    plt.title('Immediate reward gain', fontsize=16)\n",
    "    plt.yticks([])\n",
    "    plt.xlabel(r'$\\beta$', fontsize=14)\n",
    "    plt.yticks(np.arange(0, x-2, 10), np.arange(1, x-1, 10))\n",
    "    plt.xticks(np.arange(0, x-2, 10), np.arange(1, x-1, 10))\n",
    "\n",
    "    plt.subplot(1, 4, 3)\n",
    "    plt.pcolormesh(n[1:, 1:], cmap='Greys')\n",
    "    plt.colorbar()\n",
    "    plt.title('Future reward gain', fontsize=16)\n",
    "    plt.yticks([])\n",
    "    plt.xlabel(r'$\\beta$', fontsize=14)\n",
    "    plt.yticks(np.arange(0, x-2, 10), np.arange(1, x-1, 10))\n",
    "    plt.xticks(np.arange(0, x-2, 10), np.arange(1, x-1, 10))\n",
    "\n",
    "    plt.subplot(1, 4, 4)\n",
    "    plt.pcolormesh((g+r+n)[1:, 1:], cmap='Greys')\n",
    "    plt.colorbar()\n",
    "    plt.title('EVB', fontsize=16)\n",
    "    plt.yticks([])\n",
    "    plt.xlabel(r'$\\beta$', fontsize=14)\n",
    "    plt.yticks(np.arange(0, x-2, 10), np.arange(1, x-1, 10))\n",
    "    plt.xticks(np.arange(0, x-2, 10), np.arange(1, x-1, 10))\n",
    "\n",
    "    plt.suptitle(title, fontsize=20)\n",
    "    plt.tight_layout()"
   ]
  },
  {
   "cell_type": "code",
   "execution_count": 106,
   "id": "2318e1ec",
   "metadata": {},
   "outputs": [
    {
     "data": {
      "image/png": "[encoded data removed]",
      "text/plain": [
       "<Figure size 1152x288 with 8 Axes>"
      ]
     },
     "metadata": {
      "needs_background": "light"
     },
     "output_type": "display_data"
    }
   ],
   "source": [
    "alphab, betab = 10, 10\n",
    "plot_all(0, alphab, betab, 'Choose this arm' + ', other arm ' + r'$(\\alpha=%u, \\beta=%u)$'%(alphab, betab))"
   ]
  },
  {
   "cell_type": "code",
   "execution_count": 107,
   "id": "b1a3ee0d",
   "metadata": {},
   "outputs": [
    {
     "data": {
      "image/png": "[encoded data removed]",
      "text/plain": [
       "<Figure size 1152x288 with 8 Axes>"
      ]
     },
     "metadata": {
      "needs_background": "light"
     },
     "output_type": "display_data"
    }
   ],
   "source": [
    "alphab, betab = 10, 10\n",
    "plot_all(1, alphab, betab, 'Choose other arm, other arm ' + r'$(\\alpha=%u, \\beta=%u)$'%(alphab, betab))"
   ]
  },
  {
   "cell_type": "code",
   "execution_count": null,
   "id": "2a14017c",
   "metadata": {},
   "outputs": [],
   "source": []
  }
 ],
 "metadata": {
  "kernelspec": {
   "display_name": "Python 3",
   "language": "python",
   "name": "python3"
  },
  "language_info": {
   "codemirror_mode": {
    "name": "ipython",
    "version": 3
   },
   "file_extension": ".py",
   "mimetype": "text/x-python",
   "name": "python",
   "nbconvert_exporter": "python",
   "pygments_lexer": "ipython3",
   "version": "3.9.7"
  },
  "varInspector": {
   "cols": {
    "lenName": 16,
    "lenType": 16,
    "lenVar": 40
   },
   "kernels_config": {
    "python": {
     "delete_cmd_postfix": "",
     "delete_cmd_prefix": "del ",
     "library": "var_list.py",
     "varRefreshCmd": "print(var_dic_list())"
    },
    "r": {
     "delete_cmd_postfix": ") ",
     "delete_cmd_prefix": "rm(",
     "library": "var_list.r",
     "varRefreshCmd": "cat(var_dic_list()) "
    }
   },
   "position": {
    "height": "560.85px",
    "left": "1066px",
    "right": "20px",
    "top": "120px",
    "width": "354px"
   },
   "types_to_exclude": [
    "module",
    "function",
    "builtin_function_or_method",
    "instance",
    "_Feature"
   ],
   "window_display": false
  }
 },
 "nbformat": 4,
 "nbformat_minor": 5
}
