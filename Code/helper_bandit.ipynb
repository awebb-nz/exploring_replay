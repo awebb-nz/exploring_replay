{
 "cells": [
  {
   "cell_type": "code",
   "execution_count": 1,
   "id": "b8a3ed96",
   "metadata": {
    "ExecuteTime": {
     "end_time": "2021-11-12T13:30:42.691103Z",
     "start_time": "2021-11-12T13:30:39.907259Z"
    }
   },
   "outputs": [],
   "source": [
    "import os\n",
    "import numpy as np\n",
    "from scipy.stats import beta\n",
    "import matplotlib.pyplot as plt"
   ]
  },
  {
   "cell_type": "markdown",
   "id": "602702df",
   "metadata": {},
   "source": [
    "### Initialise the environment"
   ]
  },
  {
   "cell_type": "code",
   "execution_count": 2,
   "id": "21499053",
   "metadata": {},
   "outputs": [],
   "source": [
    "p1 = 0.80 # true expected payoff for arm 1\n",
    "p2 = 0.50 # true expected payoff for arm 2\n",
    "\n",
    "arms = [p1, p2]"
   ]
  },
  {
   "cell_type": "markdown",
   "id": "4f22df01",
   "metadata": {},
   "source": [
    "### Initialise the agent"
   ]
  },
  {
   "cell_type": "code",
   "execution_count": 3,
   "id": "9d326d42",
   "metadata": {},
   "outputs": [
    {
     "data": {
      "text/plain": [
       "array([0, 1])"
      ]
     },
     "execution_count": 3,
     "metadata": {},
     "output_type": "execute_result"
    }
   ],
   "source": [
    "a = np.array([1, 4])\n",
    "np.array(a >= a.max()).astype(int)"
   ]
  },
  {
   "cell_type": "code",
   "execution_count": 4,
   "id": "cfbacf49",
   "metadata": {},
   "outputs": [],
   "source": [
    "def policy(q_values, temp=None, type='softmax'):\n",
    "\n",
    "    if temp:\n",
    "        t = temp\n",
    "    else:\n",
    "        t = 1\n",
    "    if type == 'softmax':\n",
    "        return np.exp(q_values*t)/np.sum(np.exp(q_values*t))\n",
    "    else:\n",
    "        return np.array(q_values >= q_values.max()).astype(int)\n",
    "\n",
    "def belief_update(M_curr, arm, rew):\n",
    "\n",
    "    M_next = M_curr.copy()\n",
    "    if rew == 1:\n",
    "        M_next[arm, 0] += 1\n",
    "    else:\n",
    "        M_next[arm, 1] += 1\n",
    "    return M_next\n",
    "\n",
    "gamma   = 0.9\n",
    "gittins = np.genfromtxt('../gittins200_gamma09.csv', delimiter=',') # load gittins indices\n",
    "gittins = gittins[1:, 1:] # remove (0, .) and (., 0) priors\n",
    "\n",
    "# initial belief state\n",
    "M = np.array([\n",
    "    [1, 1],\n",
    "    [1, 1]\n",
    "], dtype=int)\n",
    "\n",
    "temp = 1 # inverse temperature for softmax"
   ]
  },
  {
   "cell_type": "markdown",
   "id": "d8441bc7",
   "metadata": {},
   "source": [
    "### Run the model-free agent"
   ]
  },
  {
   "cell_type": "code",
   "execution_count": 5,
   "id": "658fb1ff",
   "metadata": {},
   "outputs": [],
   "source": [
    "np.random.seed(1234)\n",
    "\n",
    "num_episodes = 180\n",
    "for ep in range(num_episodes):\n",
    "    Q  = np.array([gittins[M[0, 0], M[0, 1]], gittins[M[1, 0], M[1, 1]]])\n",
    "    # a = np.argmax(Q)\n",
    "    ps = policy(Q, temp=temp)\n",
    "    a  = np.random.choice([0, 1], p=ps)\n",
    "    r  = np.random.choice([0, 1], p=(1-arms[a], arms[a]))\n",
    "    M  = belief_update(M, a, r)"
   ]
  },
  {
   "cell_type": "markdown",
   "id": "7b9d1f84",
   "metadata": {},
   "source": [
    "### Plot the resulting belief"
   ]
  },
  {
   "cell_type": "code",
   "execution_count": 6,
   "id": "a36bd5ea",
   "metadata": {},
   "outputs": [
    {
     "data": {
      "text/plain": [
       "Text(0.5, 1.0, '$\\\\mathbb{E}[p\\\\mid b]$')"
      ]
     },
     "execution_count": 6,
     "metadata": {},
     "output_type": "execute_result"
    },
    {
     "data": {
      "image/png": "[encoded data removed]",
      "text/plain": [
       "<Figure size 1008x288 with 3 Axes>"
      ]
     },
     "metadata": {
      "needs_background": "light"
     },
     "output_type": "display_data"
    }
   ],
   "source": [
    "plt.figure(figsize=(14, 4))\n",
    "\n",
    "x = np.linspace(0, 1, 100)\n",
    "plt.subplot(1, 3, 1)\n",
    "a, b = M[0, 0], M[0, 1]\n",
    "rv = beta(a, b)\n",
    "plt.plot(x, rv.pdf(x), 'k-', lw=2)\n",
    "plt.xlim(0,1)\n",
    "plt.title('arm 1, p=%.2f'%arms[0])\n",
    "plt.subplot(1, 3, 2)\n",
    "a, b = M[1, 0], M[1, 1]\n",
    "rv = beta(a, b)\n",
    "plt.plot(x, rv.pdf(x), 'k-', lw=2)\n",
    "plt.xlim(0,1)\n",
    "plt.title('arm 2, p=%.2f'%arms[1])\n",
    "plt.subplot(1, 3, 3)\n",
    "plt.bar([1, 2], [M[0, 0]/np.sum(M[0, :]), M[1, 0]/np.sum(M[1, :])])\n",
    "plt.xticks([1, 2], [1, 2])\n",
    "plt.ylim(0,1)\n",
    "plt.title(r'$\\mathbb{E}[p\\mid b]$')"
   ]
  },
  {
   "cell_type": "code",
   "execution_count": 7,
   "id": "8a040e46",
   "metadata": {},
   "outputs": [
    {
     "data": {
      "text/plain": [
       "array([[72, 22],\n",
       "       [56, 34]])"
      ]
     },
     "execution_count": 7,
     "metadata": {},
     "output_type": "execute_result"
    }
   ],
   "source": [
    "M"
   ]
  },
  {
   "cell_type": "markdown",
   "id": "c9210f86",
   "metadata": {},
   "source": [
    "### Construct belief tree"
   ]
  },
  {
   "cell_type": "code",
   "execution_count": 93,
   "id": "01c3ef5a",
   "metadata": {
    "ExecuteTime": {
     "end_time": "2021-11-12T13:30:48.351790Z",
     "start_time": "2021-11-12T13:30:48.336832Z"
    },
    "code_folding": []
   },
   "outputs": [],
   "source": [
    "def get_belief_tree(h, b):\n",
    "\n",
    "    # initialise the hyperstate tree\n",
    "    tree = {hi:{} for hi in range(h)}\n",
    "    \n",
    "    tree[0][(0, 0)] = b\n",
    "    tree[0][(1, 1)] = b\n",
    "\n",
    "    for hi in range(1, h):\n",
    "        c = 0\n",
    "        for k, v in tree[hi-1].items():\n",
    "            \n",
    "            prev_c = k[-1]\n",
    "            prev_a = k[0]\n",
    "            \n",
    "            for r in [0, 1]:\n",
    "                \n",
    "                b1 = belief_update(v, prev_a, r)\n",
    "\n",
    "                for a in range(2):\n",
    "                    tree[hi][(a, prev_c, c)] = b1\n",
    "                    c += 1\n",
    "    return tree"
   ]
  },
  {
   "cell_type": "markdown",
   "id": "6f1c1f4a",
   "metadata": {},
   "source": [
    "### Replay in belief tree"
   ]
  },
  {
   "cell_type": "markdown",
   "id": "4bb0ec7d",
   "metadata": {},
   "source": [
    "We want to prioritise updates in this belief tree. The prioritisation scheme is the following:\n",
    "\n",
    "$$\n",
    "\\begin{align*}\n",
    "    v(ba^*)-v(b) =& \\mathbb{E}_{b'\\sim p(b'\\mid b, a^*)}\\Big[\\sum_a \\big(\\pi(a\\mid b')-\\pi(a\\mid b)\\big)q(b',a) \\\\\n",
    "    +& \\mathbb{E}_{a\\sim \\pi(a\\mid b)}\\big[r(b',a) - r(b,a)\\big]  \\\\ \n",
    "    +& \\mathbb{E}_{a\\sim \\pi(a\\mid b)}\\big[\\gamma \\sum_{b''}p(b''\\mid b', a)v(b'') - \\gamma \\sum_{g'}p(g'\\mid b, a)v(g') \\big] \\Big] \n",
    "\\end{align*}\n",
    "$$\n",
    "\n",
    "where $ba^*$ is a belief that results from choosing action $a^*$ from belief $b$, the policy $\\pi(a\\mid b)$ is determined by the Gittins index associated with belief $b$, $q(b', a)$ is the Gittins index, and $v(b')=\\mathbb{E}_{\\pi(a\\mid b')}\\big[q(b',a)\\big]$\n",
    "\n",
    "For the moment, we will only consider single-step updates from children to their parents"
   ]
  },
  {
   "cell_type": "code",
   "execution_count": 139,
   "id": "f2547e69",
   "metadata": {},
   "outputs": [],
   "source": [
    "def evb(tree):\n",
    "    '''\n",
    "    calculate the evb for all tree nodes\n",
    "    -------\n",
    "    tree: belief tree\n",
    "    -------\n",
    "    '''\n",
    "\n",
    "    h        = len(tree.keys()) # planning horizon\n",
    "    evb_tree = {hi:{} for hi in range(h)} # tree with evb values for each node\n",
    "    val_tree = {hi:{} for hi in range(h)} # tree with value functions for each node\n",
    "\n",
    "    # first assign leaf values as immediate reward at all horizons\n",
    "    for hi in range(h):\n",
    "        for k, b in tree[hi].items():\n",
    "            q_values        = np.array([b[0, 0]/np.sum(b[0, :]), b[1, 0]/np.sum(b[1, :])]) # initial q-values are just the immediate reward\n",
    "            val_tree[hi][k] = np.dot(policy(q_values), q_values) # change temperature?\n",
    "\n",
    "    # then compute evb for every backup \n",
    "    for hi in reversed(range(h-1)):\n",
    "        for k, b in tree[hi].items():\n",
    "\n",
    "            arm      = k[0]\n",
    "            v        = val_tree[hi][k] # current value of this belief state\n",
    "            c        = k[-1]\n",
    "            v_primes = []\n",
    "            b_primes = []\n",
    "\n",
    "            for k1, b_prime in tree[hi+1].items():\n",
    "                prev_c = k1[-2]\n",
    "                if prev_c == c:\n",
    "                    v_primes += [val_tree[hi+1][k1]] # values of next belief states\n",
    "                    b_primes += [b_prime]\n",
    "\n",
    "            evb_out = 0\n",
    "            for idx, v_prime in enumerate(v_primes):\n",
    "                b_prime = b_primes[idx]\n",
    "\n",
    "                if b_prime[arm, 0] > b[arm, 0]:\n",
    "                    evb_out += (b[arm, 0]/np.sum(b[arm, :]))*(v_prime - v)\n",
    "                else:\n",
    "                    evb_out += (b[arm, 1]/np.sum(b[arm, :]))*(v_prime - v)\n",
    "\n",
    "            evb_tree[hi][(arm, c)] = evb_out\n",
    "\n",
    "    updates = {hi:[] for hi in range(h-1)}\n",
    "    for hi in reversed(range(h-1)):\n",
    "        max_val = 0\n",
    "        for k, v in evb_tree[hi].items():\n",
    "            if v > max_val:\n",
    "                updates[hi] = [k[0], v]\n",
    "                max_val     = v\n",
    "\n",
    "    return evb_tree"
   ]
  },
  {
   "cell_type": "code",
   "execution_count": 140,
   "id": "6a5e83d2",
   "metadata": {},
   "outputs": [],
   "source": [
    "h    = 6\n",
    "tree = get_belief_tree(h, M)"
   ]
  },
  {
   "cell_type": "code",
   "execution_count": 141,
   "id": "4527ab09",
   "metadata": {},
   "outputs": [],
   "source": [
    "evb_tree = evb(tree)"
   ]
  },
  {
   "cell_type": "code",
   "execution_count": 144,
   "id": "a9970450",
   "metadata": {},
   "outputs": [
    {
     "data": {
      "text/plain": [
       "{(0, 0): 9.884986667429985e-06,\n",
       " (1, 1): 1.407579013169933e-05,\n",
       " (0, 2): 9.591652548099523e-06,\n",
       " (1, 3): 1.4056173724075194e-05,\n",
       " (0, 4): 9.85688471931423e-06,\n",
       " (1, 5): 1.3838996112078197e-05,\n",
       " (0, 6): 9.871542805831805e-06,\n",
       " (1, 7): 1.3704260323259276e-05,\n",
       " (0, 8): 9.591652548099523e-06,\n",
       " (1, 9): 1.4056173724075194e-05,\n",
       " (0, 10): 9.286692284010342e-06,\n",
       " (1, 11): 1.4035061630140143e-05,\n",
       " (0, 12): 9.544700733201718e-06,\n",
       " (1, 13): 1.3817364494265235e-05,\n",
       " (0, 14): 9.559992701648444e-06,\n",
       " (1, 15): 1.3684410724645185e-05,\n",
       " (0, 16): 9.85688471931423e-06,\n",
       " (1, 17): 1.3838996112078197e-05,\n",
       " (0, 18): 9.544700733201718e-06,\n",
       " (1, 19): 1.3817364494265235e-05,\n",
       " (0, 20): 9.812452358506658e-06,\n",
       " (1, 21): 1.35986015792444e-05,\n",
       " (0, 22): 9.82845982297649e-06,\n",
       " (1, 23): 1.3479135270499931e-05,\n",
       " (0, 24): 9.871542805831805e-06,\n",
       " (1, 25): 1.3704260323259276e-05,\n",
       " (0, 26): 9.559992701648444e-06,\n",
       " (1, 27): 1.3684410724645185e-05,\n",
       " (0, 28): 9.82845982297649e-06,\n",
       " (1, 29): 1.3479135270499931e-05,\n",
       " (0, 30): 9.843330330865357e-06,\n",
       " (1, 31): 1.3344148678340242e-05}"
      ]
     },
     "execution_count": 144,
     "metadata": {},
     "output_type": "execute_result"
    }
   ],
   "source": [
    "evb_tree[2]"
   ]
  },
  {
   "cell_type": "markdown",
   "id": "a5dc1be0",
   "metadata": {},
   "source": [
    "### Check updates with the highest evb"
   ]
  },
  {
   "cell_type": "code",
   "execution_count": 145,
   "id": "bffa7796",
   "metadata": {},
   "outputs": [],
   "source": [
    "updates = {hi:[] for hi in range(h-1)}\n",
    "for hi in reversed(range(h-1)):\n",
    "    max_val = 0\n",
    "    for k, v in evb_tree[hi].items():\n",
    "        if v > max_val:\n",
    "            updates[hi] = [k[0], v]\n",
    "            max_val     = v"
   ]
  },
  {
   "cell_type": "code",
   "execution_count": 146,
   "id": "94246678",
   "metadata": {},
   "outputs": [
    {
     "data": {
      "text/plain": [
       "{0: [1, 1.4045129664373712e-05],\n",
       " 1: [1, 1.406106042999922e-05],\n",
       " 2: [1, 1.407579013169933e-05],\n",
       " 3: [1, 1.408937986852694e-05],\n",
       " 4: [1, 1.4101887527455045e-05]}"
      ]
     },
     "execution_count": 146,
     "metadata": {},
     "output_type": "execute_result"
    }
   ],
   "source": [
    "updates"
   ]
  },
  {
   "cell_type": "markdown",
   "id": "b6a59ec7",
   "metadata": {},
   "source": [
    "### Analyse the evb curve"
   ]
  },
  {
   "cell_type": "code",
   "execution_count": 108,
   "id": "ad0475dd",
   "metadata": {},
   "outputs": [],
   "source": [
    "def evb_matrix(arm, alphab, betab):\n",
    "    x, y   = 50, 50\n",
    "    alphas = np.arange(1, x)\n",
    "    betas  = np.arange(1, y)\n",
    "    evb_plot = np.zeros((x, y))\n",
    "\n",
    "    for x in alphas:\n",
    "        for y in betas:\n",
    "            m = np.array([\n",
    "                [x, y],\n",
    "                [alphab, betab]\n",
    "            ], dtype=int)\n",
    "            m_primes = [m.copy(), m.copy()]\n",
    "            m_primes[0][arm, 0] += 1\n",
    "            m_primes[1][arm, 1] += 1\n",
    "\n",
    "            tmp = evb(m, arm, m_primes)\n",
    "            evb_plot[x, y] = tmp\n",
    "\n",
    "    return evb_plot"
   ]
  },
  {
   "cell_type": "code",
   "execution_count": 82,
   "id": "dbc570c3",
   "metadata": {},
   "outputs": [],
   "source": [
    "alphab, betab = 1, 1"
   ]
  },
  {
   "cell_type": "code",
   "execution_count": 83,
   "id": "2318e1ec",
   "metadata": {},
   "outputs": [
    {
     "data": {
      "image/png": "[encoded data removed]",
      "text/plain": [
       "<Figure size 1008x432 with 4 Axes>"
      ]
     },
     "metadata": {
      "needs_background": "light"
     },
     "output_type": "display_data"
    }
   ],
   "source": [
    "plt.figure(figsize=(14, 6))\n",
    "\n",
    "plt.subplot(1, 2, 1)\n",
    "evb_plot = evb_matrix(0, alphab, betab)\n",
    "plt.pcolormesh(evb_plot, cmap='Greys')\n",
    "plt.colorbar()\n",
    "plt.title('Choose this arm' + ', other arm ' + r'$(\\alpha=%u, \\beta=%u)$'%(alphab, betab), fontsize=16)\n",
    "plt.ylabel(r'$\\alpha$', fontsize=14)\n",
    "plt.xlabel(r'$\\beta$', fontsize=14)\n",
    "\n",
    "plt.subplot(1, 2, 2)\n",
    "evb_plot = evb_matrix(1, alphab, betab)\n",
    "plt.pcolormesh(evb_plot, cmap='Greys')\n",
    "plt.colorbar()\n",
    "plt.title('Choose other arm' + ', other arm ' + r'$(\\alpha=%u, \\beta=%u)$'%(alphab, betab), fontsize=16)\n",
    "plt.ylabel(r'$\\alpha$', fontsize=14)\n",
    "plt.xlabel(r'$\\beta$', fontsize=14)\n",
    "plt.tight_layout()"
   ]
  },
  {
   "cell_type": "code",
   "execution_count": null,
   "id": "db977df5",
   "metadata": {},
   "outputs": [],
   "source": []
  }
 ],
 "metadata": {
  "kernelspec": {
   "display_name": "Python 3",
   "language": "python",
   "name": "python3"
  },
  "language_info": {
   "codemirror_mode": {
    "name": "ipython",
    "version": 3
   },
   "file_extension": ".py",
   "mimetype": "text/x-python",
   "name": "python",
   "nbconvert_exporter": "python",
   "pygments_lexer": "ipython3",
   "version": "3.9.7"
  },
  "varInspector": {
   "cols": {
    "lenName": 16,
    "lenType": 16,
    "lenVar": 40
   },
   "kernels_config": {
    "python": {
     "delete_cmd_postfix": "",
     "delete_cmd_prefix": "del ",
     "library": "var_list.py",
     "varRefreshCmd": "print(var_dic_list())"
    },
    "r": {
     "delete_cmd_postfix": ") ",
     "delete_cmd_prefix": "rm(",
     "library": "var_list.r",
     "varRefreshCmd": "cat(var_dic_list()) "
    }
   },
   "position": {
    "height": "560.85px",
    "left": "1066px",
    "right": "20px",
    "top": "120px",
    "width": "354px"
   },
   "types_to_exclude": [
    "module",
    "function",
    "builtin_function_or_method",
    "instance",
    "_Feature"
   ],
   "window_display": false
  }
 },
 "nbformat": 4,
 "nbformat_minor": 5
}
